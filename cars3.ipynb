{
 "cells": [
  {
   "cell_type": "code",
   "execution_count": 11,
   "metadata": {},
   "outputs": [],
   "source": [
    "import requests\n",
    "from bs4 import BeautifulSoup\n",
    "import re\n",
    "\n",
    "# ชื่อเว็ปที่จะสกัด หน้าที่ 1\n",
    "cars = \"https://chobrod.com/car-the-north/ygt2020/p3\"\n",
    "\n",
    "# ส่งคำขอ\n",
    "page = requests.get(cars)\n",
    "\n",
    "# ใช้ BeautifulSoup ในการสกัดข้อมูล\n",
    "soup = BeautifulSoup(page.content, \"html.parser\")"
   ]
  },
  {
   "cell_type": "code",
   "execution_count": 2,
   "metadata": {},
   "outputs": [
    {
     "data": {
      "text/plain": [
       "[<p class=\"price\">฿619,000 </p>,\n",
       " <p class=\"price\">฿459,000 </p>,\n",
       " <p class=\"price\">฿439,000 </p>,\n",
       " <p class=\"price\">฿449,000 </p>,\n",
       " <p class=\"price\">฿379,000 </p>,\n",
       " <p class=\"price\">฿419,000 </p>,\n",
       " <p class=\"price\">฿988,000</p>,\n",
       " <p class=\"price\">฿389,000 </p>,\n",
       " <p class=\"price\">฿395,000 </p>,\n",
       " <p class=\"price\">฿780,000 </p>]"
      ]
     },
     "execution_count": 2,
     "metadata": {},
     "output_type": "execute_result"
    }
   ],
   "source": [
    "# สกัดข้อมูลจาก class ที่มีชื่อว่า \"price\"\n",
    "content = soup.find_all(class_=\"price\")\n",
    "content"
   ]
  },
  {
   "cell_type": "code",
   "execution_count": 3,
   "metadata": {},
   "outputs": [
    {
     "name": "stdout",
     "output_type": "stream",
     "text": [
      "619000.0\n",
      "459000.0\n",
      "439000.0\n",
      "449000.0\n",
      "379000.0\n",
      "419000.0\n",
      "988000.0\n",
      "389000.0\n",
      "395000.0\n",
      "780000.0\n"
     ]
    }
   ],
   "source": [
    "prices = []\n",
    "\n",
    "# แปลง ResultSet เป็นข้อความก่อนใช้ regex\n",
    "content_text = \" \".join([item.get_text() for item in content])\n",
    "\n",
    "# ใช้ regex ในการค้นหาราคาที่ขึ้นต้นด้วยสัญลักษณ์ ฿\n",
    "price_matches = re.findall(r'฿\\s*([\\d,]+)', content_text)\n",
    "\n",
    "# ตรวจสอบว่ามี matches หรือไม่\n",
    "if price_matches:\n",
    "    for price_str in price_matches:\n",
    "        # ลบคอมมาออกและแปลงเป็น float หรือ int\n",
    "        price = float(price_str.replace(',', ''))\n",
    "        prices.append(price)\n",
    "else:\n",
    "    print(f\"No price found in: {content_text}\")  # Optional: สำหรับ debugging\n",
    "\n",
    "# แสดงผลลัพธ์\n",
    "for price in prices:\n",
    "    print(price)"
   ]
  },
  {
   "cell_type": "code",
   "execution_count": 4,
   "metadata": {},
   "outputs": [
    {
     "data": {
      "text/plain": [
       "[<div class=\"date\"><i class=\"cicon-list-calendar-2\"></i>2022</div>,\n",
       " <div class=\"date\"><i class=\"cicon-list-calendar-2\"></i>2021</div>,\n",
       " <div class=\"date\"><i class=\"cicon-list-calendar-2\"></i>2023</div>,\n",
       " <div class=\"date\"><i class=\"cicon-list-calendar-2\"></i>2020</div>,\n",
       " <div class=\"date\"><i class=\"cicon-list-calendar-2\"></i>2020</div>,\n",
       " <div class=\"date\"><i class=\"cicon-list-calendar-2\"></i>2020</div>,\n",
       " <div class=\"date\"><i class=\"cicon-list-calendar-2\"></i>2022</div>,\n",
       " <div class=\"date\"><i class=\"cicon-list-calendar-2\"></i>2021</div>,\n",
       " <div class=\"date\"><i class=\"cicon-list-calendar-2\"></i>2023</div>,\n",
       " <div class=\"date\"><i class=\"cicon-list-calendar-2\"></i>2020</div>]"
      ]
     },
     "execution_count": 4,
     "metadata": {},
     "output_type": "execute_result"
    }
   ],
   "source": [
    "# สกัดข้อมูลจาก class ที่มีชื่อว่า \"date\"\n",
    "content = soup.find_all(class_=\"date\")\n",
    "content"
   ]
  },
  {
   "cell_type": "code",
   "execution_count": 5,
   "metadata": {},
   "outputs": [
    {
     "name": "stdout",
     "output_type": "stream",
     "text": [
      "2022\n",
      "2021\n",
      "2023\n",
      "2020\n",
      "2020\n",
      "2020\n",
      "2022\n",
      "2021\n",
      "2023\n",
      "2020\n"
     ]
    }
   ],
   "source": [
    "html_date = '''\n",
    "<<div class=\"date\"><i class=\"cicon-list-calendar-2\"></i>2022</div>,\n",
    " <div class=\"date\"><i class=\"cicon-list-calendar-2\"></i>2021</div>,\n",
    " <div class=\"date\"><i class=\"cicon-list-calendar-2\"></i>2023</div>,\n",
    " <div class=\"date\"><i class=\"cicon-list-calendar-2\"></i>2020</div>,\n",
    " <div class=\"date\"><i class=\"cicon-list-calendar-2\"></i>2020</div>,\n",
    " <div class=\"date\"><i class=\"cicon-list-calendar-2\"></i>2020</div>,\n",
    " <div class=\"date\"><i class=\"cicon-list-calendar-2\"></i>2022</div>,\n",
    " <div class=\"date\"><i class=\"cicon-list-calendar-2\"></i>2021</div>,\n",
    " <div class=\"date\"><i class=\"cicon-list-calendar-2\"></i>2023</div>,\n",
    " <div class=\"date\"><i class=\"cicon-list-calendar-2\"></i>2020</div>\n",
    " '''\n",
    "# สร้าง BeautifulSoup object\n",
    "soup = BeautifulSoup(html_date, 'html.parser')\n",
    "\n",
    "# ค้นหาข้อมูลทั้งหมดที่อยู่ใน div ที่มี class ชื่อว่า \"date\"\n",
    "dates = soup.find_all('div', class_='date')\n",
    "\n",
    "# ใช้ Regular Expression ในการดึงแค่ปี\n",
    "years = [re.search(r'\\d{4}', str(date)).group() for date in dates]\n",
    "\n",
    "# แสดงผลลัพธ์\n",
    "#print(years)\n",
    "\n",
    "# แสดงผลข้อมูลในแนวตั้ง\n",
    "for year in years:\n",
    "    print(year)"
   ]
  },
  {
   "cell_type": "code",
   "execution_count": 8,
   "metadata": {},
   "outputs": [
    {
     "data": {
      "text/plain": [
       "[<div class=\"location\"><i class=\"icon-location\"></i>เชียงใหม่</div>,\n",
       " <div class=\"location\"><i class=\"icon-location\"></i>เชียงใหม่</div>,\n",
       " <div class=\"location\"><i class=\"icon-location\"></i>เชียงใหม่</div>,\n",
       " <div class=\"location\"><i class=\"icon-location\"></i>เชียงใหม่</div>,\n",
       " <div class=\"location\"><i class=\"icon-location\"></i>เชียงใหม่</div>,\n",
       " <div class=\"location\"><i class=\"icon-location\"></i>เชียงใหม่</div>,\n",
       " <div class=\"location\"><i class=\"icon-location\"></i>เชียงใหม่</div>,\n",
       " <div class=\"location\"><i class=\"icon-location\"></i>เชียงใหม่</div>,\n",
       " <div class=\"location\"><i class=\"icon-location\"></i>เชียงใหม่</div>,\n",
       " <div class=\"location\"><i class=\"icon-location\"></i>เชียงใหม่</div>]"
      ]
     },
     "execution_count": 8,
     "metadata": {},
     "output_type": "execute_result"
    }
   ],
   "source": [
    "# สกัดข้อมูลจาก class ที่มีชื่อว่า \"location\"\n",
    "content1 = soup.find_all(class_=\"location\")\n",
    "content1"
   ]
  },
  {
   "cell_type": "code",
   "execution_count": 9,
   "metadata": {},
   "outputs": [
    {
     "name": "stdout",
     "output_type": "stream",
     "text": [
      "เชียงใหม่\n",
      "เชียงใหม่\n",
      "เชียงใหม่\n",
      "เชียงใหม่\n",
      "เชียงใหม่\n",
      "เชียงใหม่\n",
      "เชียงใหม่\n",
      "เชียงใหม่\n",
      "เชียงใหม่\n",
      "เชียงใหม่\n"
     ]
    }
   ],
   "source": [
    "html_location = '''\n",
    "<<div class=\"location\"><i class=\"icon-location\"></i>เชียงใหม่</div>,\n",
    " <div class=\"location\"><i class=\"icon-location\"></i>เชียงใหม่</div>,\n",
    " <div class=\"location\"><i class=\"icon-location\"></i>เชียงใหม่</div>,\n",
    " <div class=\"location\"><i class=\"icon-location\"></i>เชียงใหม่</div>,\n",
    " <div class=\"location\"><i class=\"icon-location\"></i>เชียงใหม่</div>,\n",
    " <div class=\"location\"><i class=\"icon-location\"></i>เชียงใหม่</div>,\n",
    " <div class=\"location\"><i class=\"icon-location\"></i>เชียงใหม่</div>,\n",
    " <div class=\"location\"><i class=\"icon-location\"></i>เชียงใหม่</div>,\n",
    " <div class=\"location\"><i class=\"icon-location\"></i>เชียงใหม่</div>,\n",
    " <div class=\"location\"><i class=\"icon-location\"></i>เชียงใหม่</div>\n",
    " '''\n",
    "# สร้าง BeautifulSoup object\n",
    "soup = BeautifulSoup(html_location, 'html.parser')\n",
    "\n",
    "# ค้นหาข้อมูลทั้งหมดที่อยู่ใน div ที่มี class ชื่อว่า \"location\"\n",
    "locations = soup.find_all('div', class_='location')\n",
    "\n",
    "# ดึงชื่อจังหวัดจากข้อมูล\n",
    "province_names = [location.get_text(strip=True).replace('เชียงใหม่', 'เชียงใหม่') for location in locations]\n",
    "\n",
    "# แสดงผลลัพธ์\n",
    "for province in province_names:\n",
    "    print(province)"
   ]
  },
  {
   "cell_type": "code",
   "execution_count": 12,
   "metadata": {},
   "outputs": [
    {
     "data": {
      "text/plain": [
       "[<h2 class=\"title\"><a href=\"/car-ford-ranger-2-2-hi-rider-xlt-chiangmai/2022-รถกระบะ-ฟรีดาวน์-aid24894122\" title=\"2022 Ford RANGER 2.2 Hi-Rider XLT รถกระบะ ฟรีดาวน์\">2022 Ford RANGER 2.2 Hi-Rider XLT รถกระบะ ฟรีดาวน์</a></h2>,\n",
       " <h2 class=\"title\"><a href=\"/car-mitsubishi-triton-2-4-gt-plus-chiangmai/2021-รถกระบะ-ฟรีดาวน์-aid24894132\" title=\"2021 Mitsubishi TRITON 2.4 GT Plus รถกระบะ ฟรีดาวน์\">2021 Mitsubishi TRITON 2.4 GT Plus รถกระบะ ฟรีดาวน์</a></h2>,\n",
       " <h2 class=\"title\"><a href=\"/car-isuzu-d-max-1-9-spacecab-s-chiangmai/2023-รถกระบะ-รถสวย-aid24868732\" title=\"2023 Isuzu D-Max 1.9 Spacecab S รถกระบะ รถสวย\">2023 Isuzu D-Max 1.9 Spacecab S รถกระบะ รถสวย</a></h2>,\n",
       " <h2 class=\"title\"><a href=\"/car-ford-ranger-2-2-xlt-chiangmai/2020-รถกระบะ-ออกรถ-0-บาท-aid24888382\" title=\"2020 Ford RANGER 2.2 XLT รถกระบะ ออกรถ 0 บาท\">2020 Ford RANGER 2.2 XLT รถกระบะ ออกรถ 0 บาท</a></h2>,\n",
       " <h2 class=\"title\"><a href=\"/car-mitsubishi-triton-2-4-glx-chiangmai/2020-รถกระบะ-ผ่อนสบาย-aid24743172\" title=\"2020 Mitsubishi TRITON 2.4 GLX รถกระบะ ผ่อนสบาย\">2020 Mitsubishi TRITON 2.4 GLX รถกระบะ ผ่อนสบาย</a></h2>,\n",
       " <h2 class=\"title\"><a href=\"/car-ford-ranger-2-2-hi-rider-xlt-chiangmai/2020-รถกระบะ-ออกรถง่าย-aid24875332\" title=\"2020 Ford RANGER 2.2 Hi-Rider XLT รถกระบะ ออกรถง่าย\">2020 Ford RANGER 2.2 Hi-Rider XLT รถกระบะ ออกรถง่าย</a></h2>,\n",
       " <h2 class=\"title\"><a href=\"/car-toyota-corolla-cross-gr-sport-chiangmai/2022-suv-รถสภาพดี-มีประกัน-aid24862622\" title=\"2022 Toyota Corolla Cross GR Sport SUV รถสภาพดี มีประกัน\">2022 Toyota Corolla Cross GR Sport SUV รถสภาพดี มีประกัน</a></h2>,\n",
       " <h2 class=\"title\"><a href=\"/car-mg-5-1-5-x-chiangmai/2021-1-x-รถเก๋ง-4-ประตู-aid24849532\" title=\"2021 Mg 5 1.5 X รถเก๋ง 4 ประตู \">2021 Mg 5 1.5 X รถเก๋ง 4 ประตู </a></h2>,\n",
       " <h2 class=\"title\"><a href=\"/car-mitsubishi-triton-2-5-glx-chiangmai/รถกระบะ-รถสวย-aid24839632\" title=\"Mitsubishi TRITON 2.5 GLX รถกระบะ รถสวย\">Mitsubishi TRITON 2.5 GLX รถกระบะ รถสวย</a></h2>,\n",
       " <h2 class=\"title\"><a href=\"/car-toyota-corolla-cross-hybrid-premium-safety-chiangmai/2020-suv-นัดดูรถเชียงใหม่-aid24871912\" title=\"2020 Toyota Corolla Cross Hybrid Premium Safety SUV นัดดูรถเชียงใหม่\">2020 Toyota Corolla Cross Hybrid Premium Safety SUV นัดดูรถเชียงใหม่</a></h2>,\n",
       " <h2 class=\"title\"><a href=\"/car-toyota\" title=\"ขายรถ Toyota มือสอง สภาพดี\">ขายรถ Toyota มือสอง สภาพดี</a></h2>,\n",
       " <h2 class=\"title\"><a href=\"/car-honda\" title=\"ขายรถ Honda มือสอง สภาพดี\">ขายรถ Honda มือสอง สภาพดี</a></h2>,\n",
       " <h2 class=\"title\"><a href=\"/car-mazda\" title=\"ขายรถ Mazda มือสอง สภาพดี\">ขายรถ Mazda มือสอง สภาพดี</a></h2>,\n",
       " <h2 class=\"title\"><a href=\"/car-mitsubishi\" title=\"ตลาดรถ Mitsubishi มือสอง สภาพดี\">ตลาดรถ Mitsubishi มือสอง สภาพดี</a></h2>,\n",
       " <h2 class=\"title\"><a href=\"/car-isuzu\" title=\"ขายรถ Isuzu มือสอง สภาพดี\">ขายรถ Isuzu มือสอง สภาพดี</a></h2>,\n",
       " <h2 class=\"title\"><a href=\"/car-nissan\" title=\"ตลาดรถ Nissan มือสอง สภาพดี\">ตลาดรถ Nissan มือสอง สภาพดี</a></h2>,\n",
       " <h2 class=\"title\"><a href=\"/car-mercedes-benz\" title=\"ขายรถ Mercedes-Benz มือสอง สภาพดี\">ขายรถ Mercedes-Benz มือสอง สภาพดี</a></h2>,\n",
       " <h2 class=\"title\"><a href=\"/car-bmw\" title=\"ขายรถ Bmw มือสอง สภาพดี\">ขายรถ Bmw มือสอง สภาพดี</a></h2>]"
      ]
     },
     "execution_count": 12,
     "metadata": {},
     "output_type": "execute_result"
    }
   ],
   "source": [
    "# สกัดข้อมูลจาก class ที่มีชื่อว่า \"title\"\n",
    "content2 = soup.find_all('h2',class_=\"title\")\n",
    "content2"
   ]
  },
  {
   "cell_type": "code",
   "execution_count": 13,
   "metadata": {},
   "outputs": [
    {
     "name": "stdout",
     "output_type": "stream",
     "text": [
      "2022 Ford RANGER 2.2 Hi-Rider XLT รถกระบะ ฟรีดาวน์\n",
      "2021 Mitsubishi TRITON 2.4 GT Plus รถกระบะ ฟรีดาวน์\n",
      "2023 Isuzu D-Max 1.9 Spacecab S รถกระบะ รถสวย\n",
      "2020 Ford RANGER 2.2 XLT รถกระบะ ออกรถ 0 บาท\n",
      "2020 Mitsubishi TRITON 2.4 GLX รถกระบะ ผ่อนสบาย\n",
      "2020 Ford RANGER 2.2 Hi-Rider XLT รถกระบะ ออกรถง่าย\n",
      "2022 Toyota Corolla Cross GR Sport SUV รถสภาพดี มีประกัน\n",
      "2021 Mg 5 1.5 X รถเก๋ง 4 ประตู \n",
      "Mitsubishi TRITON 2.5 GLX รถกระบะ รถสวย\n",
      "2020 Toyota Corolla Cross Hybrid Premium Safety SUV นัดดูรถเชียงใหม่\n"
     ]
    }
   ],
   "source": [
    "html_cars = '''\n",
    "<<h2 class=\"title\"><a href=\"/car-ford-ranger-2-2-hi-rider-xlt-chiangmai/2022-รถกระบะ-ฟรีดาวน์-aid24894122\" title=\"2022 Ford RANGER 2.2 Hi-Rider XLT รถกระบะ ฟรีดาวน์\">2022 Ford RANGER 2.2 Hi-Rider XLT รถกระบะ ฟรีดาวน์</a></h2>,\n",
    " <h2 class=\"title\"><a href=\"/car-mitsubishi-triton-2-4-gt-plus-chiangmai/2021-รถกระบะ-ฟรีดาวน์-aid24894132\" title=\"2021 Mitsubishi TRITON 2.4 GT Plus รถกระบะ ฟรีดาวน์\">2021 Mitsubishi TRITON 2.4 GT Plus รถกระบะ ฟรีดาวน์</a></h2>,\n",
    " <h2 class=\"title\"><a href=\"/car-isuzu-d-max-1-9-spacecab-s-chiangmai/2023-รถกระบะ-รถสวย-aid24868732\" title=\"2023 Isuzu D-Max 1.9 Spacecab S รถกระบะ รถสวย\">2023 Isuzu D-Max 1.9 Spacecab S รถกระบะ รถสวย</a></h2>,\n",
    " <h2 class=\"title\"><a href=\"/car-ford-ranger-2-2-xlt-chiangmai/2020-รถกระบะ-ออกรถ-0-บาท-aid24888382\" title=\"2020 Ford RANGER 2.2 XLT รถกระบะ ออกรถ 0 บาท\">2020 Ford RANGER 2.2 XLT รถกระบะ ออกรถ 0 บาท</a></h2>,\n",
    " <h2 class=\"title\"><a href=\"/car-mitsubishi-triton-2-4-glx-chiangmai/2020-รถกระบะ-ผ่อนสบาย-aid24743172\" title=\"2020 Mitsubishi TRITON 2.4 GLX รถกระบะ ผ่อนสบาย\">2020 Mitsubishi TRITON 2.4 GLX รถกระบะ ผ่อนสบาย</a></h2>,\n",
    " <h2 class=\"title\"><a href=\"/car-ford-ranger-2-2-hi-rider-xlt-chiangmai/2020-รถกระบะ-ออกรถง่าย-aid24875332\" title=\"2020 Ford RANGER 2.2 Hi-Rider XLT รถกระบะ ออกรถง่าย\">2020 Ford RANGER 2.2 Hi-Rider XLT รถกระบะ ออกรถง่าย</a></h2>,\n",
    " <h2 class=\"title\"><a href=\"/car-toyota-corolla-cross-gr-sport-chiangmai/2022-suv-รถสภาพดี-มีประกัน-aid24862622\" title=\"2022 Toyota Corolla Cross GR Sport SUV รถสภาพดี มีประกัน\">2022 Toyota Corolla Cross GR Sport SUV รถสภาพดี มีประกัน</a></h2>,\n",
    " <h2 class=\"title\"><a href=\"/car-mg-5-1-5-x-chiangmai/2021-1-x-รถเก๋ง-4-ประตู-aid24849532\" title=\"2021 Mg 5 1.5 X รถเก๋ง 4 ประตู \">2021 Mg 5 1.5 X รถเก๋ง 4 ประตู </a></h2>,\n",
    " <h2 class=\"title\"><a href=\"/car-mitsubishi-triton-2-5-glx-chiangmai/รถกระบะ-รถสวย-aid24839632\" title=\"Mitsubishi TRITON 2.5 GLX รถกระบะ รถสวย\">Mitsubishi TRITON 2.5 GLX รถกระบะ รถสวย</a></h2>,\n",
    " <h2 class=\"title\"><a href=\"/car-toyota-corolla-cross-hybrid-premium-safety-chiangmai/2020-suv-นัดดูรถเชียงใหม่-aid24871912\" title=\"2020 Toyota Corolla Cross Hybrid Premium Safety SUV นัดดูรถเชียงใหม่\">2020 Toyota Corolla Cross Hybrid Premium Safety SUV นัดดูรถเชียงใหม่</a></h2>\n",
    " '''\n",
    "\n",
    "# สร้าง BeautifulSoup object\n",
    "soup = BeautifulSoup(html_cars, 'html.parser')\n",
    "\n",
    "# ดึงค่าจาก attribute title ของแต่ละ <a> tag\n",
    "car_titles = [a['title'] for a in soup.find_all('a', title=True)]\n",
    "\n",
    "# แสดงผลข้อมูลในแนวตั้ง\n",
    "for title in car_titles:\n",
    "    print(title)"
   ]
  },
  {
   "cell_type": "code",
   "execution_count": 14,
   "metadata": {},
   "outputs": [
    {
     "name": "stdout",
     "output_type": "stream",
     "text": [
      "Ford\n",
      "Mitsubishi\n",
      "Isuzu\n",
      "Ford\n",
      "Mitsubishi\n",
      "Ford\n",
      "Toyota\n",
      "Mg\n",
      "Mitsubishi\n",
      "Toyota\n"
     ]
    }
   ],
   "source": [
    "data = [\n",
    "\"2022 Ford RANGER 2.2 Hi-Rider XLT รถกระบะ ฟรีดาวน์\",\n",
    "\"2021 Mitsubishi TRITON 2.4 GT Plus รถกระบะ ฟรีดาวน์\",\n",
    "\"2023 Isuzu D-Max 1.9 Spacecab S รถกระบะ รถสวย\",\n",
    "\"2020 Ford RANGER 2.2 XLT รถกระบะ ออกรถ 0 บาท\",\n",
    "\"2020 Mitsubishi TRITON 2.4 GLX รถกระบะ ผ่อนสบาย\",\n",
    "\"2020 Ford RANGER 2.2 Hi-Rider XLT รถกระบะ ออกรถง่าย\",\n",
    "\"2022 Toyota Corolla Cross GR Sport SUV รถสภาพดี มีประกัน\",\n",
    "\"2021 Mg 5 1.5 X รถเก๋ง 4 ประตู \",\n",
    "\"2023 Mitsubishi TRITON 2.5 GLX รถกระบะ รถสวย\",\n",
    "\"2020 Toyota Corolla Cross Hybrid Premium Safety SUV นัดดูรถเชียงใหม่\",\n",
    "]\n",
    "\n",
    "# ฟังก์ชันในการดึงชื่อยี่ห้อรถ\n",
    "def extract_brand(text):\n",
    "    match = re.match(r\"\\d{4} (\\w+)\", text)\n",
    "    if match:\n",
    "        return match.group(1)\n",
    "    return \"\"\n",
    "\n",
    "# ดึงชื่อยี่ห้อรถและพิมพ์ออกมา\n",
    "for item in data:\n",
    "    brand = extract_brand(item)\n",
    "    if brand:\n",
    "        print(brand)\n"
   ]
  },
  {
   "cell_type": "code",
   "execution_count": 15,
   "metadata": {},
   "outputs": [
    {
     "name": "stdout",
     "output_type": "stream",
     "text": [
      "Pickup\n",
      "Pickup\n",
      "Pickup\n",
      "Pickup\n",
      "Pickup\n",
      "Pickup\n",
      "SUV\n",
      "Sedan\n",
      "Pickup\n",
      "SUV\n"
     ]
    }
   ],
   "source": [
    "\n",
    "# ฟังก์ชันในการดึงชื่อยี่ห้อรถ\n",
    "def extract_brand(text):\n",
    "    match = re.match(r\"\\d{4} (\\w+)\", text)\n",
    "    if match:\n",
    "        return match.group(1)\n",
    "    return \"\"\n",
    "\n",
    "# ฟังก์ชันในการดึงประเภทของรถ\n",
    "def extract_type(text):\n",
    "    if \"รถกระบะ\" in text:\n",
    "        return \"Pickup\"\n",
    "    elif \"รถเก๋ง\" in text:\n",
    "        return \"Sedan\"\n",
    "    elif \"รถตู้\" in text or \"MPV\" in text:\n",
    "        return \"Van\"\n",
    "    elif \"SUV\" in text:\n",
    "        return \"SUV\"\n",
    "    return \"ประเภทอื่น\"\n",
    "\n",
    "# ดึงประเภทของรถและพิมพ์ออกมา\n",
    "for item in data:\n",
    "    car_type = extract_type(item)\n",
    "    if car_type:\n",
    "        print(car_type)"
   ]
  },
  {
   "cell_type": "code",
   "execution_count": 16,
   "metadata": {},
   "outputs": [
    {
     "name": "stdout",
     "output_type": "stream",
     "text": [
      "Ford RANGER 2.2 Hi-Rider XLT\n",
      "Mitsubishi TRITON 2.4 GT Plus\n",
      "Isuzu D-Max 1.9 Spacecab S\n",
      "Ford RANGER 2.2 XLT\n",
      "Mitsubishi TRITON 2.4 GLX\n",
      "Ford RANGER 2.2 Hi-Rider XLT\n",
      "Toyota Corolla Cross GR Sport\n",
      "Mg 5 1.5 X\n",
      "Mitsubishi TRITON 2.5 GLX\n",
      "Toyota Corolla Cross Hybrid Premium Safety\n"
     ]
    }
   ],
   "source": [
    "# ฟังก์ชันในการดึงชื่อรุ่นรถ\n",
    "def extract_model(text):\n",
    "    # ใช้ Regular Expressions เพื่อดึงชื่อรุ่นรถที่ปรากฏหลังปี\n",
    "    match = re.search(r\"\\d{4} (.+?) (รถ|SUV|MPV|เก๋ง|กระบะ|ตู้)\", text)\n",
    "    if match:\n",
    "        return match.group(1).strip()\n",
    "    return \"\"\n",
    "\n",
    "# ดึงชื่อรุ่นรถและพิมพ์ออกมา\n",
    "for item in data:\n",
    "    model = extract_model(item)\n",
    "    if model:\n",
    "        print(model)"
   ]
  },
  {
   "cell_type": "code",
   "execution_count": 17,
   "metadata": {},
   "outputs": [],
   "source": [
    "import csv\n",
    "# ดึงชื่อจังหวัด, ปี และราคา จาก HTML\n",
    "#province_names = extract_provinces(html_location)\n",
    "#years = extract_years(html_date)\n",
    "#prices = extract_prices(html_price)\n",
    "\n",
    "# เปิดไฟล์ CSV เพื่อเขียนข้อมูล\n",
    "with open('car_data_with_prices3.csv', mode='w', newline='', encoding='utf-8') as file:\n",
    "    writer = csv.writer(file)\n",
    "    writer.writerow(['Year', 'Brand', 'Model', 'Type', 'Province', 'Price'])  # เขียนหัวข้อคอลัมน์\n",
    "\n",
    "    # ดึงข้อมูลและเขียนลงในไฟล์ CSV\n",
    "    for item, province, year, price in zip(data, province_names, years, prices):\n",
    "        brand = extract_brand(item)\n",
    "        model = extract_model(item)\n",
    "        car_type = extract_type(item)\n",
    "        writer.writerow([year, brand, model, car_type, province, price])"
   ]
  }
 ],
 "metadata": {
  "kernelspec": {
   "display_name": "Python 3",
   "language": "python",
   "name": "python3"
  },
  "language_info": {
   "codemirror_mode": {
    "name": "ipython",
    "version": 3
   },
   "file_extension": ".py",
   "mimetype": "text/x-python",
   "name": "python",
   "nbconvert_exporter": "python",
   "pygments_lexer": "ipython3",
   "version": "3.12.4"
  }
 },
 "nbformat": 4,
 "nbformat_minor": 2
}

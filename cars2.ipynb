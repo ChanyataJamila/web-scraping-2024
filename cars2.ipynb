{
 "cells": [
  {
   "cell_type": "code",
   "execution_count": 23,
   "metadata": {},
   "outputs": [],
   "source": [
    "import requests\n",
    "from bs4 import BeautifulSoup\n",
    "import re\n",
    "\n",
    "# ชื่อเว็ปที่จะสกัด หน้าที่ 1\n",
    "cars = \"https://chobrod.com/car-the-north/ygt2020/p2\"\n",
    "\n",
    "# ส่งคำขอ\n",
    "page = requests.get(cars)\n",
    "\n",
    "# ใช้ BeautifulSoup ในการสกัดข้อมูล\n",
    "soup = BeautifulSoup(page.content, \"html.parser\")"
   ]
  },
  {
   "cell_type": "code",
   "execution_count": 24,
   "metadata": {},
   "outputs": [
    {
     "data": {
      "text/plain": [
       "[<p class=\"price\">฿369,000 </p>,\n",
       " <p class=\"price\">฿399,000 </p>,\n",
       " <p class=\"price\">฿369,000 </p>,\n",
       " <p class=\"price\">฿799,000 </p>,\n",
       " <p class=\"price\">฿419,000 </p>,\n",
       " <p class=\"price\">฿379,000 </p>,\n",
       " <p class=\"price\">฿399,000 </p>,\n",
       " <p class=\"price\">฿285,000 </p>,\n",
       " <p class=\"price\">฿718,000 </p>,\n",
       " <p class=\"price\">฿719,000 </p>,\n",
       " <p class=\"price\">฿539,000 </p>,\n",
       " <p class=\"price\">฿349,000 </p>,\n",
       " <p class=\"price\">฿559,000 </p>,\n",
       " <p class=\"price\">฿519,000 </p>,\n",
       " <p class=\"price\">฿529,000 </p>,\n",
       " <p class=\"price\">฿419,000 </p>]"
      ]
     },
     "execution_count": 24,
     "metadata": {},
     "output_type": "execute_result"
    }
   ],
   "source": [
    "# สกัดข้อมูลจาก class ที่มีชื่อว่า \"price\"\n",
    "content = soup.find_all(class_=\"price\")\n",
    "content"
   ]
  },
  {
   "cell_type": "code",
   "execution_count": 4,
   "metadata": {},
   "outputs": [
    {
     "name": "stdout",
     "output_type": "stream",
     "text": [
      "369000.0\n",
      "399000.0\n",
      "369000.0\n",
      "799000.0\n",
      "419000.0\n",
      "379000.0\n",
      "399000.0\n",
      "285000.0\n",
      "718000.0\n",
      "719000.0\n",
      "539000.0\n",
      "349000.0\n",
      "559000.0\n",
      "519000.0\n",
      "529000.0\n",
      "419000.0\n"
     ]
    }
   ],
   "source": [
    "prices = []\n",
    "\n",
    "# แปลง ResultSet เป็นข้อความก่อนใช้ regex\n",
    "content_text = \" \".join([item.get_text() for item in content])\n",
    "\n",
    "# ใช้ regex ในการค้นหาราคาที่ขึ้นต้นด้วยสัญลักษณ์ ฿\n",
    "price_matches = re.findall(r'฿\\s*([\\d,]+)', content_text)\n",
    "\n",
    "# ตรวจสอบว่ามี matches หรือไม่\n",
    "if price_matches:\n",
    "    for price_str in price_matches:\n",
    "        # ลบคอมมาออกและแปลงเป็น float หรือ int\n",
    "        price = float(price_str.replace(',', ''))\n",
    "        prices.append(price)\n",
    "else:\n",
    "    print(f\"No price found in: {content_text}\")  # Optional: สำหรับ debugging\n",
    "\n",
    "# แสดงผลลัพธ์\n",
    "for price in prices:\n",
    "    print(price)"
   ]
  },
  {
   "cell_type": "code",
   "execution_count": 5,
   "metadata": {},
   "outputs": [
    {
     "name": "stdout",
     "output_type": "stream",
     "text": [
      "[<div class=\"date\"><i class=\"cicon-list-calendar-2\"></i>2021</div>, <div class=\"date\"><i class=\"cicon-list-calendar-2\"></i>2020</div>, <div class=\"date\"><i class=\"cicon-list-calendar-2\"></i>2021</div>, <div class=\"date\"><i class=\"cicon-list-calendar-2\"></i>2023</div>, <div class=\"date\"><i class=\"cicon-list-calendar-2\"></i>2021</div>, <div class=\"date\"><i class=\"cicon-list-calendar-2\"></i>2022</div>, <div class=\"date\"><i class=\"cicon-list-calendar-2\"></i>2020</div>, <div class=\"date\"><i class=\"cicon-list-calendar-2\"></i>2020</div>, <div class=\"date\"><i class=\"cicon-list-calendar-2\"></i>2022</div>, <div class=\"date\"><i class=\"cicon-list-calendar-2\"></i>2022</div>, <div class=\"date\"><i class=\"cicon-list-calendar-2\"></i>2021</div>, <div class=\"date\"><i class=\"cicon-list-calendar-2\"></i>2021</div>, <div class=\"date\"><i class=\"cicon-list-calendar-2\"></i>2020</div>, <div class=\"date\"><i class=\"cicon-list-calendar-2\"></i>2021</div>, <div class=\"date\"><i class=\"cicon-list-calendar-2\"></i>2021</div>, <div class=\"date\"><i class=\"cicon-list-calendar-2\"></i>2020</div>]\n"
     ]
    }
   ],
   "source": [
    "# สกัดข้อมูลจาก class ที่มีชื่อว่า \"date\"\n",
    "content = soup.find_all(class_=\"date\")\n",
    "print(content)"
   ]
  },
  {
   "cell_type": "code",
   "execution_count": 6,
   "metadata": {},
   "outputs": [
    {
     "data": {
      "text/plain": [
       "[<div class=\"date\"><i class=\"cicon-list-calendar-2\"></i>2021</div>,\n",
       " <div class=\"date\"><i class=\"cicon-list-calendar-2\"></i>2020</div>,\n",
       " <div class=\"date\"><i class=\"cicon-list-calendar-2\"></i>2021</div>,\n",
       " <div class=\"date\"><i class=\"cicon-list-calendar-2\"></i>2023</div>,\n",
       " <div class=\"date\"><i class=\"cicon-list-calendar-2\"></i>2021</div>,\n",
       " <div class=\"date\"><i class=\"cicon-list-calendar-2\"></i>2022</div>,\n",
       " <div class=\"date\"><i class=\"cicon-list-calendar-2\"></i>2020</div>,\n",
       " <div class=\"date\"><i class=\"cicon-list-calendar-2\"></i>2020</div>,\n",
       " <div class=\"date\"><i class=\"cicon-list-calendar-2\"></i>2022</div>,\n",
       " <div class=\"date\"><i class=\"cicon-list-calendar-2\"></i>2022</div>,\n",
       " <div class=\"date\"><i class=\"cicon-list-calendar-2\"></i>2021</div>,\n",
       " <div class=\"date\"><i class=\"cicon-list-calendar-2\"></i>2021</div>,\n",
       " <div class=\"date\"><i class=\"cicon-list-calendar-2\"></i>2020</div>,\n",
       " <div class=\"date\"><i class=\"cicon-list-calendar-2\"></i>2021</div>,\n",
       " <div class=\"date\"><i class=\"cicon-list-calendar-2\"></i>2021</div>,\n",
       " <div class=\"date\"><i class=\"cicon-list-calendar-2\"></i>2020</div>]"
      ]
     },
     "execution_count": 6,
     "metadata": {},
     "output_type": "execute_result"
    }
   ],
   "source": [
    "content"
   ]
  },
  {
   "cell_type": "code",
   "execution_count": 7,
   "metadata": {},
   "outputs": [
    {
     "name": "stdout",
     "output_type": "stream",
     "text": [
      "2021\n",
      "2020\n",
      "2021\n",
      "2023\n",
      "2021\n",
      "2022\n",
      "2020\n",
      "2020\n",
      "2022\n",
      "2022\n",
      "2021\n",
      "2021\n",
      "2020\n",
      "2021\n",
      "2021\n",
      "2020\n"
     ]
    }
   ],
   "source": [
    "html_date = '''\n",
    "<<div class=\"date\"><i class=\"cicon-list-calendar-2\"></i>2021</div>,\n",
    " <div class=\"date\"><i class=\"cicon-list-calendar-2\"></i>2020</div>,\n",
    " <div class=\"date\"><i class=\"cicon-list-calendar-2\"></i>2021</div>,\n",
    " <div class=\"date\"><i class=\"cicon-list-calendar-2\"></i>2023</div>,\n",
    " <div class=\"date\"><i class=\"cicon-list-calendar-2\"></i>2021</div>,\n",
    " <div class=\"date\"><i class=\"cicon-list-calendar-2\"></i>2022</div>,\n",
    " <div class=\"date\"><i class=\"cicon-list-calendar-2\"></i>2020</div>,\n",
    " <div class=\"date\"><i class=\"cicon-list-calendar-2\"></i>2020</div>,\n",
    " <div class=\"date\"><i class=\"cicon-list-calendar-2\"></i>2022</div>,\n",
    " <div class=\"date\"><i class=\"cicon-list-calendar-2\"></i>2022</div>,\n",
    " <div class=\"date\"><i class=\"cicon-list-calendar-2\"></i>2021</div>,\n",
    " <div class=\"date\"><i class=\"cicon-list-calendar-2\"></i>2021</div>,\n",
    " <div class=\"date\"><i class=\"cicon-list-calendar-2\"></i>2020</div>,\n",
    " <div class=\"date\"><i class=\"cicon-list-calendar-2\"></i>2021</div>,\n",
    " <div class=\"date\"><i class=\"cicon-list-calendar-2\"></i>2021</div>,\n",
    " <div class=\"date\"><i class=\"cicon-list-calendar-2\"></i>2020</div>\n",
    " '''\n",
    "# สร้าง BeautifulSoup object\n",
    "soup = BeautifulSoup(html_date, 'html.parser')\n",
    "\n",
    "# ค้นหาข้อมูลทั้งหมดที่อยู่ใน div ที่มี class ชื่อว่า \"date\"\n",
    "dates = soup.find_all('div', class_='date')\n",
    "\n",
    "# ใช้ Regular Expression ในการดึงแค่ปี\n",
    "years = [re.search(r'\\d{4}', str(date)).group() for date in dates]\n",
    "\n",
    "# แสดงผลลัพธ์\n",
    "#print(years)\n",
    "\n",
    "# แสดงผลข้อมูลในแนวตั้ง\n",
    "for year in years:\n",
    "    print(year)"
   ]
  },
  {
   "cell_type": "code",
   "execution_count": 10,
   "metadata": {},
   "outputs": [
    {
     "name": "stdout",
     "output_type": "stream",
     "text": [
      "[<div class=\"location\"><i class=\"icon-location\"></i>เชียงใหม่</div>, <div class=\"location\"><i class=\"icon-location\"></i>เชียงใหม่</div>, <div class=\"location\"><i class=\"icon-location\"></i>เชียงใหม่</div>, <div class=\"location\"><i class=\"icon-location\"></i>เชียงใหม่</div>, <div class=\"location\"><i class=\"icon-location\"></i>เชียงใหม่</div>, <div class=\"location\"><i class=\"icon-location\"></i>เชียงใหม่</div>, <div class=\"location\"><i class=\"icon-location\"></i>เชียงใหม่</div>, <div class=\"location\"><i class=\"icon-location\"></i>เชียงใหม่</div>, <div class=\"location\"><i class=\"icon-location\"></i>เชียงใหม่</div>, <div class=\"location\"><i class=\"icon-location\"></i>เชียงใหม่</div>, <div class=\"location\"><i class=\"icon-location\"></i>เชียงใหม่</div>, <div class=\"location\"><i class=\"icon-location\"></i>เชียงใหม่</div>, <div class=\"location\"><i class=\"icon-location\"></i>เชียงใหม่</div>, <div class=\"location\"><i class=\"icon-location\"></i>เชียงใหม่</div>, <div class=\"location\"><i class=\"icon-location\"></i>เชียงใหม่</div>, <div class=\"location\"><i class=\"icon-location\"></i>เชียงใหม่</div>]\n"
     ]
    }
   ],
   "source": [
    "# สกัดข้อมูลจาก class ที่มีชื่อว่า \"location\"\n",
    "content1 = soup.find_all(class_=\"location\")\n",
    "print(content1)"
   ]
  },
  {
   "cell_type": "code",
   "execution_count": 11,
   "metadata": {},
   "outputs": [
    {
     "data": {
      "text/plain": [
       "[<div class=\"location\"><i class=\"icon-location\"></i>เชียงใหม่</div>,\n",
       " <div class=\"location\"><i class=\"icon-location\"></i>เชียงใหม่</div>,\n",
       " <div class=\"location\"><i class=\"icon-location\"></i>เชียงใหม่</div>,\n",
       " <div class=\"location\"><i class=\"icon-location\"></i>เชียงใหม่</div>,\n",
       " <div class=\"location\"><i class=\"icon-location\"></i>เชียงใหม่</div>,\n",
       " <div class=\"location\"><i class=\"icon-location\"></i>เชียงใหม่</div>,\n",
       " <div class=\"location\"><i class=\"icon-location\"></i>เชียงใหม่</div>,\n",
       " <div class=\"location\"><i class=\"icon-location\"></i>เชียงใหม่</div>,\n",
       " <div class=\"location\"><i class=\"icon-location\"></i>เชียงใหม่</div>,\n",
       " <div class=\"location\"><i class=\"icon-location\"></i>เชียงใหม่</div>,\n",
       " <div class=\"location\"><i class=\"icon-location\"></i>เชียงใหม่</div>,\n",
       " <div class=\"location\"><i class=\"icon-location\"></i>เชียงใหม่</div>,\n",
       " <div class=\"location\"><i class=\"icon-location\"></i>เชียงใหม่</div>,\n",
       " <div class=\"location\"><i class=\"icon-location\"></i>เชียงใหม่</div>,\n",
       " <div class=\"location\"><i class=\"icon-location\"></i>เชียงใหม่</div>,\n",
       " <div class=\"location\"><i class=\"icon-location\"></i>เชียงใหม่</div>]"
      ]
     },
     "execution_count": 11,
     "metadata": {},
     "output_type": "execute_result"
    }
   ],
   "source": [
    "content1"
   ]
  },
  {
   "cell_type": "code",
   "execution_count": 12,
   "metadata": {},
   "outputs": [
    {
     "name": "stdout",
     "output_type": "stream",
     "text": [
      "เชียงใหม่\n",
      "เชียงใหม่\n",
      "เชียงใหม่\n",
      "เชียงใหม่\n",
      "เชียงใหม่\n",
      "เชียงใหม่\n",
      "เชียงใหม่\n",
      "เชียงใหม่\n",
      "เชียงใหม่\n",
      "เชียงใหม่\n",
      "เชียงใหม่\n",
      "เชียงใหม่\n",
      "เชียงใหม่\n",
      "เชียงใหม่\n",
      "เชียงใหม่\n",
      "เชียงใหม่\n"
     ]
    }
   ],
   "source": [
    "html_location = '''\n",
    "<div class=\"location\"><i class=\"icon-location\"></i>เชียงใหม่</div>,\n",
    " <div class=\"location\"><i class=\"icon-location\"></i>เชียงใหม่</div>,\n",
    " <div class=\"location\"><i class=\"icon-location\"></i>เชียงใหม่</div>,\n",
    " <div class=\"location\"><i class=\"icon-location\"></i>เชียงใหม่</div>,\n",
    " <div class=\"location\"><i class=\"icon-location\"></i>เชียงใหม่</div>,\n",
    " <div class=\"location\"><i class=\"icon-location\"></i>เชียงใหม่</div>,\n",
    " <div class=\"location\"><i class=\"icon-location\"></i>เชียงใหม่</div>,\n",
    " <div class=\"location\"><i class=\"icon-location\"></i>เชียงใหม่</div>,\n",
    " <div class=\"location\"><i class=\"icon-location\"></i>เชียงใหม่</div>,\n",
    " <div class=\"location\"><i class=\"icon-location\"></i>เชียงใหม่</div>,\n",
    " <div class=\"location\"><i class=\"icon-location\"></i>เชียงใหม่</div>,\n",
    " <div class=\"location\"><i class=\"icon-location\"></i>เชียงใหม่</div>,\n",
    " <div class=\"location\"><i class=\"icon-location\"></i>เชียงใหม่</div>,\n",
    " <div class=\"location\"><i class=\"icon-location\"></i>เชียงใหม่</div>,\n",
    " <div class=\"location\"><i class=\"icon-location\"></i>เชียงใหม่</div>,\n",
    " <div class=\"location\"><i class=\"icon-location\"></i>เชียงใหม่</div>\n",
    " '''\n",
    "# สร้าง BeautifulSoup object\n",
    "soup = BeautifulSoup(html_location, 'html.parser')\n",
    "\n",
    "# ค้นหาข้อมูลทั้งหมดที่อยู่ใน div ที่มี class ชื่อว่า \"location\"\n",
    "locations = soup.find_all('div', class_='location')\n",
    "\n",
    "# ดึงชื่อจังหวัดจากข้อมูล\n",
    "province_names = [location.get_text(strip=True).replace('เชียงใหม่', 'เชียงใหม่') for location in locations]\n",
    "\n",
    "# แสดงผลลัพธ์\n",
    "for province in province_names:\n",
    "    print(province)"
   ]
  },
  {
   "cell_type": "code",
   "execution_count": 15,
   "metadata": {},
   "outputs": [
    {
     "name": "stdout",
     "output_type": "stream",
     "text": [
      "[<h2 class=\"title\"><a href=\"/car-suzuki-swift-1-2-glx-chiangmai/2021-รถเก๋ง-5-ประตู-ดาวน์-0-aid24926302\" title=\"2021 Suzuki Swift 1.2 GLX รถเก๋ง 5 ประตู ดาวน์ 0%\">2021 Suzuki Swift 1.2 GLX รถเก๋ง 5 ประตู ดาวน์ 0%</a></h2>, <h2 class=\"title\"><a href=\"/car-isuzu-d-max-1-9-spacecab-s-chiangmai/2020-รถกระบะ-ดาวน์-0-aid24840072\" title=\"2020 Isuzu D-Max 1.9 Spacecab S รถกระบะ ดาวน์ 0%\">2020 Isuzu D-Max 1.9 Spacecab S รถกระบะ ดาวน์ 0%</a></h2>, <h2 class=\"title\"><a href=\"/car-ford-ranger-2-2-hi-rider-xls-chiangmai/2021-รถกระบะ-ออกรถ-0-บาท-aid24839652\" title=\"2021 Ford RANGER 2.2 Hi-Rider XLS รถกระบะ ออกรถ 0 บาท\">2021 Ford RANGER 2.2 Hi-Rider XLS รถกระบะ ออกรถ 0 บาท</a></h2>, <h2 class=\"title\"><a href=\"/car-ford-ranger-2-0-hi-rider-wildtrak-chiangmai/2023-รถกระบะ-aid24833162\" title=\"2023 Ford RANGER 2.0 Hi-Rider WildTrak รถกระบะ \">2023 Ford RANGER 2.0 Hi-Rider WildTrak รถกระบะ </a></h2>, <h2 class=\"title\"><a href=\"/car-isuzu-d-max-3-0-hi-lander-s-chiangmai/2021-รถกระบะ-ออกรถ-0-บาท-aid24825542\" title=\"2021 Isuzu D-Max 3.0 HI-Lander S รถกระบะ ออกรถ 0 บาท\">2021 Isuzu D-Max 3.0 HI-Lander S รถกระบะ ออกรถ 0 บาท</a></h2>, <h2 class=\"title\"><a href=\"/car-mitsubishi-triton-2-5-glx-chiangmai/2022-รถกระบะ-ออกรถง่าย-aid24684442\" title=\"2022 Mitsubishi TRITON 2.5 GLX รถกระบะ ออกรถง่าย\">2022 Mitsubishi TRITON 2.5 GLX รถกระบะ ออกรถง่าย</a></h2>, <h2 class=\"title\"><a href=\"/car-honda-jazz-1-5-s-i-vtec-chiangmai/2020-รถเก๋ง-5-ประตู-ออกรถง่าย-aid24920482\" title=\"2020 Honda JAZZ 1.5 S i-VTEC รถเก๋ง 5 ประตู ออกรถง่าย\">2020 Honda JAZZ 1.5 S i-VTEC รถเก๋ง 5 ประตู ออกรถง่าย</a></h2>, <h2 class=\"title\"><a href=\"/car-mitsubishi-mirage-1-2-glx-chiangmai/2020-รถเก๋ง-5-ประตู-aid24920512\" title=\"2020 Mitsubishi Mirage 1.2 GLX รถเก๋ง 5 ประตู \">2020 Mitsubishi Mirage 1.2 GLX รถเก๋ง 5 ประตู </a></h2>, <h2 class=\"title\"><a href=\"/car-honda-br-v-1-5-el-chiangmai/2022-aid24449072\" title=\"2022 HONDA BR-V 1.5 EL\">2022 HONDA BR-V 1.5 EL</a></h2>, <h2 class=\"title\"><a href=\"/car-ford-ranger-2-0-turbo-hi-rider-xlt-chiangmai/2022-รถกระบะ-ออกรถ-0-บาท-aid24913302\" title=\"2022 Ford RANGER 2.0 Turbo Hi-Rider XLT  รถกระบะ ออกรถ 0 บาท\">2022 Ford RANGER 2.0 Turbo Hi-Rider XLT  รถกระบะ ออกรถ 0 บาท</a></h2>, <h2 class=\"title\"><a href=\"/car-isuzu-d-max-1-9-x-series-speed-chiangmai/2021-รถกระบะ-ออกรถ-0-บาท-aid24909722\" title=\"2021 Isuzu D-Max 1.9 X-Series Speed รถกระบะ ออกรถ 0 บาท\">2021 Isuzu D-Max 1.9 X-Series Speed รถกระบะ ออกรถ 0 บาท</a></h2>, <h2 class=\"title\"><a href=\"/car-toyota-yaris-1-2-entry-chiangmai/2021-รถเก๋ง-4-ประตู-aid24711002\" title=\"2021 Toyota YARIS 1.2 Entry รถเก๋ง 4 ประตู \">2021 Toyota YARIS 1.2 Entry รถเก๋ง 4 ประตู </a></h2>, <h2 class=\"title\"><a href=\"/car-isuzu-d-max-1-9-hi-lander-z-chiangmai/2020-รถกระบะ-ผ่อนเริ่มต้น-aid24881772\" title=\"2020 Isuzu D-Max 1.9 Hi-Lander Z รถกระบะ ผ่อนเริ่มต้น\">2020 Isuzu D-Max 1.9 Hi-Lander Z รถกระบะ ผ่อนเริ่มต้น</a></h2>, <h2 class=\"title\"><a href=\"/car-ford-ranger-2-2-hi-rider-xlt-chiangmai/2021-รถกระบะ-รถสภาพดี-มีประกัน-aid24905422\" title=\"2021 Ford RANGER 2.2 Hi-Rider XLT รถกระบะ รถสภาพดี มีประกัน\">2021 Ford RANGER 2.2 Hi-Rider XLT รถกระบะ รถสภาพดี มีประกัน</a></h2>, <h2 class=\"title\"><a href=\"/car-isuzu-d-max-1-9-hi-lander-x-series-z-chiangmai/2021-รถกระบะ-ฟรีดาวน์-aid24881782\" title=\"2021 Isuzu D-Max 1.9 Hi-Lander X-Series Z รถกระบะ ฟรีดาวน์\">2021 Isuzu D-Max 1.9 Hi-Lander X-Series Z รถกระบะ ฟรีดาวน์</a></h2>, <h2 class=\"title\"><a href=\"/car-toyota-hilux-revo-2-4-z-edition-e-chiangmai/2020-รถกระบะ-รถบ้านมือเดียว-aid24881762\" title=\"2020 Toyota Hilux Revo 2.4 Z Edition E รถกระบะ รถบ้านมือเดียว\">2020 Toyota Hilux Revo 2.4 Z Edition E รถกระบะ รถบ้านมือเดียว</a></h2>, <h2 class=\"title\"><a href=\"/car-toyota\" title=\"ขายรถ Toyota มือสอง สภาพดี\">ขายรถ Toyota มือสอง สภาพดี</a></h2>, <h2 class=\"title\"><a href=\"/car-honda\" title=\"ขายรถ Honda มือสอง สภาพดี\">ขายรถ Honda มือสอง สภาพดี</a></h2>, <h2 class=\"title\"><a href=\"/car-mazda\" title=\"ขายรถ Mazda มือสอง สภาพดี\">ขายรถ Mazda มือสอง สภาพดี</a></h2>, <h2 class=\"title\"><a href=\"/car-mitsubishi\" title=\"ตลาดรถ Mitsubishi มือสอง สภาพดี\">ตลาดรถ Mitsubishi มือสอง สภาพดี</a></h2>, <h2 class=\"title\"><a href=\"/car-isuzu\" title=\"ขายรถ Isuzu มือสอง สภาพดี\">ขายรถ Isuzu มือสอง สภาพดี</a></h2>, <h2 class=\"title\"><a href=\"/car-nissan\" title=\"ตลาดรถ Nissan มือสอง สภาพดี\">ตลาดรถ Nissan มือสอง สภาพดี</a></h2>, <h2 class=\"title\"><a href=\"/car-mercedes-benz\" title=\"ขายรถ Mercedes-Benz มือสอง สภาพดี\">ขายรถ Mercedes-Benz มือสอง สภาพดี</a></h2>, <h2 class=\"title\"><a href=\"/car-bmw\" title=\"ขายรถ Bmw มือสอง สภาพดี\">ขายรถ Bmw มือสอง สภาพดี</a></h2>]\n"
     ]
    }
   ],
   "source": [
    "# สกัดข้อมูลจาก class ที่มีชื่อว่า \"title\"\n",
    "content2 = soup.find_all('h2',class_=\"title\")\n",
    "print(content2)"
   ]
  },
  {
   "cell_type": "code",
   "execution_count": 16,
   "metadata": {},
   "outputs": [
    {
     "data": {
      "text/plain": [
       "[<h2 class=\"title\"><a href=\"/car-suzuki-swift-1-2-glx-chiangmai/2021-รถเก๋ง-5-ประตู-ดาวน์-0-aid24926302\" title=\"2021 Suzuki Swift 1.2 GLX รถเก๋ง 5 ประตู ดาวน์ 0%\">2021 Suzuki Swift 1.2 GLX รถเก๋ง 5 ประตู ดาวน์ 0%</a></h2>,\n",
       " <h2 class=\"title\"><a href=\"/car-isuzu-d-max-1-9-spacecab-s-chiangmai/2020-รถกระบะ-ดาวน์-0-aid24840072\" title=\"2020 Isuzu D-Max 1.9 Spacecab S รถกระบะ ดาวน์ 0%\">2020 Isuzu D-Max 1.9 Spacecab S รถกระบะ ดาวน์ 0%</a></h2>,\n",
       " <h2 class=\"title\"><a href=\"/car-ford-ranger-2-2-hi-rider-xls-chiangmai/2021-รถกระบะ-ออกรถ-0-บาท-aid24839652\" title=\"2021 Ford RANGER 2.2 Hi-Rider XLS รถกระบะ ออกรถ 0 บาท\">2021 Ford RANGER 2.2 Hi-Rider XLS รถกระบะ ออกรถ 0 บาท</a></h2>,\n",
       " <h2 class=\"title\"><a href=\"/car-ford-ranger-2-0-hi-rider-wildtrak-chiangmai/2023-รถกระบะ-aid24833162\" title=\"2023 Ford RANGER 2.0 Hi-Rider WildTrak รถกระบะ \">2023 Ford RANGER 2.0 Hi-Rider WildTrak รถกระบะ </a></h2>,\n",
       " <h2 class=\"title\"><a href=\"/car-isuzu-d-max-3-0-hi-lander-s-chiangmai/2021-รถกระบะ-ออกรถ-0-บาท-aid24825542\" title=\"2021 Isuzu D-Max 3.0 HI-Lander S รถกระบะ ออกรถ 0 บาท\">2021 Isuzu D-Max 3.0 HI-Lander S รถกระบะ ออกรถ 0 บาท</a></h2>,\n",
       " <h2 class=\"title\"><a href=\"/car-mitsubishi-triton-2-5-glx-chiangmai/2022-รถกระบะ-ออกรถง่าย-aid24684442\" title=\"2022 Mitsubishi TRITON 2.5 GLX รถกระบะ ออกรถง่าย\">2022 Mitsubishi TRITON 2.5 GLX รถกระบะ ออกรถง่าย</a></h2>,\n",
       " <h2 class=\"title\"><a href=\"/car-honda-jazz-1-5-s-i-vtec-chiangmai/2020-รถเก๋ง-5-ประตู-ออกรถง่าย-aid24920482\" title=\"2020 Honda JAZZ 1.5 S i-VTEC รถเก๋ง 5 ประตู ออกรถง่าย\">2020 Honda JAZZ 1.5 S i-VTEC รถเก๋ง 5 ประตู ออกรถง่าย</a></h2>,\n",
       " <h2 class=\"title\"><a href=\"/car-mitsubishi-mirage-1-2-glx-chiangmai/2020-รถเก๋ง-5-ประตู-aid24920512\" title=\"2020 Mitsubishi Mirage 1.2 GLX รถเก๋ง 5 ประตู \">2020 Mitsubishi Mirage 1.2 GLX รถเก๋ง 5 ประตู </a></h2>,\n",
       " <h2 class=\"title\"><a href=\"/car-honda-br-v-1-5-el-chiangmai/2022-aid24449072\" title=\"2022 HONDA BR-V 1.5 EL\">2022 HONDA BR-V 1.5 EL</a></h2>,\n",
       " <h2 class=\"title\"><a href=\"/car-ford-ranger-2-0-turbo-hi-rider-xlt-chiangmai/2022-รถกระบะ-ออกรถ-0-บาท-aid24913302\" title=\"2022 Ford RANGER 2.0 Turbo Hi-Rider XLT  รถกระบะ ออกรถ 0 บาท\">2022 Ford RANGER 2.0 Turbo Hi-Rider XLT  รถกระบะ ออกรถ 0 บาท</a></h2>,\n",
       " <h2 class=\"title\"><a href=\"/car-isuzu-d-max-1-9-x-series-speed-chiangmai/2021-รถกระบะ-ออกรถ-0-บาท-aid24909722\" title=\"2021 Isuzu D-Max 1.9 X-Series Speed รถกระบะ ออกรถ 0 บาท\">2021 Isuzu D-Max 1.9 X-Series Speed รถกระบะ ออกรถ 0 บาท</a></h2>,\n",
       " <h2 class=\"title\"><a href=\"/car-toyota-yaris-1-2-entry-chiangmai/2021-รถเก๋ง-4-ประตู-aid24711002\" title=\"2021 Toyota YARIS 1.2 Entry รถเก๋ง 4 ประตู \">2021 Toyota YARIS 1.2 Entry รถเก๋ง 4 ประตู </a></h2>,\n",
       " <h2 class=\"title\"><a href=\"/car-isuzu-d-max-1-9-hi-lander-z-chiangmai/2020-รถกระบะ-ผ่อนเริ่มต้น-aid24881772\" title=\"2020 Isuzu D-Max 1.9 Hi-Lander Z รถกระบะ ผ่อนเริ่มต้น\">2020 Isuzu D-Max 1.9 Hi-Lander Z รถกระบะ ผ่อนเริ่มต้น</a></h2>,\n",
       " <h2 class=\"title\"><a href=\"/car-ford-ranger-2-2-hi-rider-xlt-chiangmai/2021-รถกระบะ-รถสภาพดี-มีประกัน-aid24905422\" title=\"2021 Ford RANGER 2.2 Hi-Rider XLT รถกระบะ รถสภาพดี มีประกัน\">2021 Ford RANGER 2.2 Hi-Rider XLT รถกระบะ รถสภาพดี มีประกัน</a></h2>,\n",
       " <h2 class=\"title\"><a href=\"/car-isuzu-d-max-1-9-hi-lander-x-series-z-chiangmai/2021-รถกระบะ-ฟรีดาวน์-aid24881782\" title=\"2021 Isuzu D-Max 1.9 Hi-Lander X-Series Z รถกระบะ ฟรีดาวน์\">2021 Isuzu D-Max 1.9 Hi-Lander X-Series Z รถกระบะ ฟรีดาวน์</a></h2>,\n",
       " <h2 class=\"title\"><a href=\"/car-toyota-hilux-revo-2-4-z-edition-e-chiangmai/2020-รถกระบะ-รถบ้านมือเดียว-aid24881762\" title=\"2020 Toyota Hilux Revo 2.4 Z Edition E รถกระบะ รถบ้านมือเดียว\">2020 Toyota Hilux Revo 2.4 Z Edition E รถกระบะ รถบ้านมือเดียว</a></h2>,\n",
       " <h2 class=\"title\"><a href=\"/car-toyota\" title=\"ขายรถ Toyota มือสอง สภาพดี\">ขายรถ Toyota มือสอง สภาพดี</a></h2>,\n",
       " <h2 class=\"title\"><a href=\"/car-honda\" title=\"ขายรถ Honda มือสอง สภาพดี\">ขายรถ Honda มือสอง สภาพดี</a></h2>,\n",
       " <h2 class=\"title\"><a href=\"/car-mazda\" title=\"ขายรถ Mazda มือสอง สภาพดี\">ขายรถ Mazda มือสอง สภาพดี</a></h2>,\n",
       " <h2 class=\"title\"><a href=\"/car-mitsubishi\" title=\"ตลาดรถ Mitsubishi มือสอง สภาพดี\">ตลาดรถ Mitsubishi มือสอง สภาพดี</a></h2>,\n",
       " <h2 class=\"title\"><a href=\"/car-isuzu\" title=\"ขายรถ Isuzu มือสอง สภาพดี\">ขายรถ Isuzu มือสอง สภาพดี</a></h2>,\n",
       " <h2 class=\"title\"><a href=\"/car-nissan\" title=\"ตลาดรถ Nissan มือสอง สภาพดี\">ตลาดรถ Nissan มือสอง สภาพดี</a></h2>,\n",
       " <h2 class=\"title\"><a href=\"/car-mercedes-benz\" title=\"ขายรถ Mercedes-Benz มือสอง สภาพดี\">ขายรถ Mercedes-Benz มือสอง สภาพดี</a></h2>,\n",
       " <h2 class=\"title\"><a href=\"/car-bmw\" title=\"ขายรถ Bmw มือสอง สภาพดี\">ขายรถ Bmw มือสอง สภาพดี</a></h2>]"
      ]
     },
     "execution_count": 16,
     "metadata": {},
     "output_type": "execute_result"
    }
   ],
   "source": [
    "content2"
   ]
  },
  {
   "cell_type": "code",
   "execution_count": 17,
   "metadata": {},
   "outputs": [
    {
     "name": "stdout",
     "output_type": "stream",
     "text": [
      "2021 Suzuki Swift 1.2 GLX รถเก๋ง 5 ประตู ดาวน์ 0%\n",
      "2020 Isuzu D-Max 1.9 Spacecab S รถกระบะ ดาวน์ 0%\n",
      "2021 Ford RANGER 2.2 Hi-Rider XLS รถกระบะ ออกรถ 0 บาท\n",
      "2023 Ford RANGER 2.0 Hi-Rider WildTrak รถกระบะ \n",
      "2021 Isuzu D-Max 3.0 HI-Lander S รถกระบะ ออกรถ 0 บาท\n",
      "2022 Mitsubishi TRITON 2.5 GLX รถกระบะ ออกรถง่าย\n",
      "2020 Honda JAZZ 1.5 S i-VTEC รถเก๋ง 5 ประตู ออกรถง่าย\n",
      "2020 Mitsubishi Mirage 1.2 GLX รถเก๋ง 5 ประตู \n",
      "2022 HONDA BR-V 1.5 EL\n",
      "2022 Ford RANGER 2.0 Turbo Hi-Rider XLT  รถกระบะ ออกรถ 0 บาท\n",
      "2021 Isuzu D-Max 1.9 X-Series Speed รถกระบะ ออกรถ 0 บาท\n",
      "2021 Toyota YARIS 1.2 Entry รถเก๋ง 4 ประตู \n",
      "2020 Isuzu D-Max 1.9 Hi-Lander Z รถกระบะ ผ่อนเริ่มต้น\n",
      "2021 Ford RANGER 2.2 Hi-Rider XLT รถกระบะ รถสภาพดี มีประกัน\n",
      "2021 Isuzu D-Max 1.9 Hi-Lander X-Series Z รถกระบะ ฟรีดาวน์\n",
      "2020 Toyota Hilux Revo 2.4 Z Edition E รถกระบะ รถบ้านมือเดียว\n"
     ]
    }
   ],
   "source": [
    "html_cars = '''\n",
    "<<h2 class=\"title\"><a href=\"/car-suzuki-swift-1-2-glx-chiangmai/2021-รถเก๋ง-5-ประตู-ดาวน์-0-aid24926302\" title=\"2021 Suzuki Swift 1.2 GLX รถเก๋ง 5 ประตู ดาวน์ 0%\">2021 Suzuki Swift 1.2 GLX รถเก๋ง 5 ประตู ดาวน์ 0%</a></h2>,\n",
    " <h2 class=\"title\"><a href=\"/car-isuzu-d-max-1-9-spacecab-s-chiangmai/2020-รถกระบะ-ดาวน์-0-aid24840072\" title=\"2020 Isuzu D-Max 1.9 Spacecab S รถกระบะ ดาวน์ 0%\">2020 Isuzu D-Max 1.9 Spacecab S รถกระบะ ดาวน์ 0%</a></h2>,\n",
    " <h2 class=\"title\"><a href=\"/car-ford-ranger-2-2-hi-rider-xls-chiangmai/2021-รถกระบะ-ออกรถ-0-บาท-aid24839652\" title=\"2021 Ford RANGER 2.2 Hi-Rider XLS รถกระบะ ออกรถ 0 บาท\">2021 Ford RANGER 2.2 Hi-Rider XLS รถกระบะ ออกรถ 0 บาท</a></h2>,\n",
    " <h2 class=\"title\"><a href=\"/car-ford-ranger-2-0-hi-rider-wildtrak-chiangmai/2023-รถกระบะ-aid24833162\" title=\"2023 Ford RANGER 2.0 Hi-Rider WildTrak รถกระบะ \">2023 Ford RANGER 2.0 Hi-Rider WildTrak รถกระบะ </a></h2>,\n",
    " <h2 class=\"title\"><a href=\"/car-isuzu-d-max-3-0-hi-lander-s-chiangmai/2021-รถกระบะ-ออกรถ-0-บาท-aid24825542\" title=\"2021 Isuzu D-Max 3.0 HI-Lander S รถกระบะ ออกรถ 0 บาท\">2021 Isuzu D-Max 3.0 HI-Lander S รถกระบะ ออกรถ 0 บาท</a></h2>,\n",
    " <h2 class=\"title\"><a href=\"/car-mitsubishi-triton-2-5-glx-chiangmai/2022-รถกระบะ-ออกรถง่าย-aid24684442\" title=\"2022 Mitsubishi TRITON 2.5 GLX รถกระบะ ออกรถง่าย\">2022 Mitsubishi TRITON 2.5 GLX รถกระบะ ออกรถง่าย</a></h2>,\n",
    " <h2 class=\"title\"><a href=\"/car-honda-jazz-1-5-s-i-vtec-chiangmai/2020-รถเก๋ง-5-ประตู-ออกรถง่าย-aid24920482\" title=\"2020 Honda JAZZ 1.5 S i-VTEC รถเก๋ง 5 ประตู ออกรถง่าย\">2020 Honda JAZZ 1.5 S i-VTEC รถเก๋ง 5 ประตู ออกรถง่าย</a></h2>,\n",
    " <h2 class=\"title\"><a href=\"/car-mitsubishi-mirage-1-2-glx-chiangmai/2020-รถเก๋ง-5-ประตู-aid24920512\" title=\"2020 Mitsubishi Mirage 1.2 GLX รถเก๋ง 5 ประตู \">2020 Mitsubishi Mirage 1.2 GLX รถเก๋ง 5 ประตู </a></h2>,\n",
    " <h2 class=\"title\"><a href=\"/car-honda-br-v-1-5-el-chiangmai/2022-aid24449072\" title=\"2022 HONDA BR-V 1.5 EL\">2022 HONDA BR-V 1.5 EL</a></h2>,\n",
    " <h2 class=\"title\"><a href=\"/car-ford-ranger-2-0-turbo-hi-rider-xlt-chiangmai/2022-รถกระบะ-ออกรถ-0-บาท-aid24913302\" title=\"2022 Ford RANGER 2.0 Turbo Hi-Rider XLT  รถกระบะ ออกรถ 0 บาท\">2022 Ford RANGER 2.0 Turbo Hi-Rider XLT  รถกระบะ ออกรถ 0 บาท</a></h2>,\n",
    " <h2 class=\"title\"><a href=\"/car-isuzu-d-max-1-9-x-series-speed-chiangmai/2021-รถกระบะ-ออกรถ-0-บาท-aid24909722\" title=\"2021 Isuzu D-Max 1.9 X-Series Speed รถกระบะ ออกรถ 0 บาท\">2021 Isuzu D-Max 1.9 X-Series Speed รถกระบะ ออกรถ 0 บาท</a></h2>,\n",
    " <h2 class=\"title\"><a href=\"/car-toyota-yaris-1-2-entry-chiangmai/2021-รถเก๋ง-4-ประตู-aid24711002\" title=\"2021 Toyota YARIS 1.2 Entry รถเก๋ง 4 ประตู \">2021 Toyota YARIS 1.2 Entry รถเก๋ง 4 ประตู </a></h2>,\n",
    " <h2 class=\"title\"><a href=\"/car-isuzu-d-max-1-9-hi-lander-z-chiangmai/2020-รถกระบะ-ผ่อนเริ่มต้น-aid24881772\" title=\"2020 Isuzu D-Max 1.9 Hi-Lander Z รถกระบะ ผ่อนเริ่มต้น\">2020 Isuzu D-Max 1.9 Hi-Lander Z รถกระบะ ผ่อนเริ่มต้น</a></h2>,\n",
    " <h2 class=\"title\"><a href=\"/car-ford-ranger-2-2-hi-rider-xlt-chiangmai/2021-รถกระบะ-รถสภาพดี-มีประกัน-aid24905422\" title=\"2021 Ford RANGER 2.2 Hi-Rider XLT รถกระบะ รถสภาพดี มีประกัน\">2021 Ford RANGER 2.2 Hi-Rider XLT รถกระบะ รถสภาพดี มีประกัน</a></h2>,\n",
    " <h2 class=\"title\"><a href=\"/car-isuzu-d-max-1-9-hi-lander-x-series-z-chiangmai/2021-รถกระบะ-ฟรีดาวน์-aid24881782\" title=\"2021 Isuzu D-Max 1.9 Hi-Lander X-Series Z รถกระบะ ฟรีดาวน์\">2021 Isuzu D-Max 1.9 Hi-Lander X-Series Z รถกระบะ ฟรีดาวน์</a></h2>,\n",
    " <h2 class=\"title\"><a href=\"/car-toyota-hilux-revo-2-4-z-edition-e-chiangmai/2020-รถกระบะ-รถบ้านมือเดียว-aid24881762\" title=\"2020 Toyota Hilux Revo 2.4 Z Edition E รถกระบะ รถบ้านมือเดียว\">2020 Toyota Hilux Revo 2.4 Z Edition E รถกระบะ รถบ้านมือเดียว</a></h2>\n",
    " '''\n",
    "\n",
    "# สร้าง BeautifulSoup object\n",
    "soup = BeautifulSoup(html_cars, 'html.parser')\n",
    "\n",
    "# ดึงค่าจาก attribute title ของแต่ละ <a> tag\n",
    "car_titles = [a['title'] for a in soup.find_all('a', title=True)]\n",
    "\n",
    "# แสดงผลข้อมูลในแนวตั้ง\n",
    "for title in car_titles:\n",
    "    print(title)"
   ]
  },
  {
   "cell_type": "code",
   "execution_count": 18,
   "metadata": {},
   "outputs": [
    {
     "name": "stdout",
     "output_type": "stream",
     "text": [
      "Suzuki\n",
      "Isuzu\n",
      "Ford\n",
      "Ford\n",
      "Isuzu\n",
      "Mitsubishi\n",
      "Honda\n",
      "Mitsubishi\n",
      "HONDA\n",
      "Ford\n",
      "Isuzu\n",
      "Toyota\n",
      "Isuzu\n",
      "Ford\n",
      "Isuzu\n",
      "Toyota\n"
     ]
    }
   ],
   "source": [
    "data = [\n",
    "\"2021 Suzuki Swift 1.2 GLX รถเก๋ง 5 ประตู ดาวน์ 0%\",\n",
    "\"2020 Isuzu D-Max 1.9 Spacecab S รถกระบะ ดาวน์ 0%\",\n",
    "\"2021 Ford RANGER 2.2 Hi-Rider XLS รถกระบะ ออกรถ 0 บาท\",\n",
    "\"2023 Ford RANGER 2.0 Hi-Rider WildTrak รถกระบะ\",\n",
    "\"2021 Isuzu D-Max 3.0 HI-Lander S รถกระบะ ออกรถ 0 บาท\",\n",
    "\"2022 Mitsubishi TRITON 2.5 GLX รถกระบะ ออกรถง่าย\",\n",
    "\"2020 Honda JAZZ 1.5 S i-VTEC รถเก๋ง 5 ประตู ออกรถง่าย\",\n",
    "\"2020 Mitsubishi Mirage 1.2 GLX รถเก๋ง 5 ประตู\",\n",
    "\"2022 HONDA BR-V 1.5 EL\",\n",
    "\"2022 Ford RANGER 2.0 Turbo Hi-Rider XLT  รถกระบะ ออกรถ 0 บาท\",\n",
    "\"2021 Isuzu D-Max 1.9 X-Series Speed รถกระบะ ออกรถ 0 บาท\",\n",
    "\"2021 Toyota YARIS 1.2 Entry รถเก๋ง 4 ประตู\",\n",
    "\"2020 Isuzu D-Max 1.9 Hi-Lander Z รถกระบะ ผ่อนเริ่มต้น\",\n",
    "\"2021 Ford RANGER 2.2 Hi-Rider XLT รถกระบะ รถสภาพดี มีประกัน\",\n",
    "\"2021 Isuzu D-Max 1.9 Hi-Lander X-Series Z รถกระบะ ฟรีดาวน์\",\n",
    "\"2020 Toyota Hilux Revo 2.4 Z Edition E รถกระบะ รถบ้านมือเดียว\"\n",
    "]\n",
    "\n",
    "# ฟังก์ชันในการดึงชื่อยี่ห้อรถ\n",
    "def extract_brand(text):\n",
    "    match = re.match(r\"\\d{4} (\\w+)\", text)\n",
    "    if match:\n",
    "        return match.group(1)\n",
    "    return \"\"\n",
    "\n",
    "# ดึงชื่อยี่ห้อรถและพิมพ์ออกมา\n",
    "for item in data:\n",
    "    brand = extract_brand(item)\n",
    "    if brand:\n",
    "        print(brand)\n"
   ]
  },
  {
   "cell_type": "code",
   "execution_count": 19,
   "metadata": {},
   "outputs": [
    {
     "name": "stdout",
     "output_type": "stream",
     "text": [
      "Sedan\n",
      "Pickup\n",
      "Pickup\n",
      "Pickup\n",
      "Pickup\n",
      "Pickup\n",
      "Sedan\n",
      "Sedan\n",
      "ประเภทอื่น\n",
      "Pickup\n",
      "Pickup\n",
      "Sedan\n",
      "Pickup\n",
      "Pickup\n",
      "Pickup\n",
      "Pickup\n"
     ]
    }
   ],
   "source": [
    "data = [\n",
    "\"2021 Suzuki Swift 1.2 GLX รถเก๋ง 5 ประตู ดาวน์ 0%\",\n",
    "\"2020 Isuzu D-Max 1.9 Spacecab S รถกระบะ ดาวน์ 0%\",\n",
    "\"2021 Ford RANGER 2.2 Hi-Rider XLS รถกระบะ ออกรถ 0 บาท\",\n",
    "\"2023 Ford RANGER 2.0 Hi-Rider WildTrak รถกระบะ\",\n",
    "\"2021 Isuzu D-Max 3.0 HI-Lander S รถกระบะ ออกรถ 0 บาท\",\n",
    "\"2022 Mitsubishi TRITON 2.5 GLX รถกระบะ ออกรถง่าย\",\n",
    "\"2020 Honda JAZZ 1.5 S i-VTEC รถเก๋ง 5 ประตู ออกรถง่าย\",\n",
    "\"2020 Mitsubishi Mirage 1.2 GLX รถเก๋ง 5 ประตู\",\n",
    "\"2022 HONDA BR-V 1.5 EL\",\n",
    "\"2022 Ford RANGER 2.0 Turbo Hi-Rider XLT  รถกระบะ ออกรถ 0 บาท\",\n",
    "\"2021 Isuzu D-Max 1.9 X-Series Speed รถกระบะ ออกรถ 0 บาท\",\n",
    "\"2021 Toyota YARIS 1.2 Entry รถเก๋ง 4 ประตู\",\n",
    "\"2020 Isuzu D-Max 1.9 Hi-Lander Z รถกระบะ ผ่อนเริ่มต้น\",\n",
    "\"2021 Ford RANGER 2.2 Hi-Rider XLT รถกระบะ รถสภาพดี มีประกัน\",\n",
    "\"2021 Isuzu D-Max 1.9 Hi-Lander X-Series Z รถกระบะ ฟรีดาวน์\",\n",
    "\"2020 Toyota Hilux Revo 2.4 Z Edition E รถกระบะ รถบ้านมือเดียว\"\n",
    "]\n",
    "\n",
    "# ฟังก์ชันในการดึงชื่อยี่ห้อรถ\n",
    "def extract_brand(text):\n",
    "    match = re.match(r\"\\d{4} (\\w+)\", text)\n",
    "    if match:\n",
    "        return match.group(1)\n",
    "    return \"\"\n",
    "\n",
    "# ฟังก์ชันในการดึงประเภทของรถ\n",
    "def extract_type(text):\n",
    "    if \"รถกระบะ\" in text:\n",
    "        return \"Pickup\"\n",
    "    elif \"รถเก๋ง\" in text:\n",
    "        return \"Sedan\"\n",
    "    elif \"รถตู้\" in text or \"MPV\" in text:\n",
    "        return \"Van\"\n",
    "    elif \"SUV\" in text:\n",
    "        return \"SUV\"\n",
    "    return \"ประเภทอื่น\"\n",
    "\n",
    "# ดึงประเภทของรถและพิมพ์ออกมา\n",
    "for item in data:\n",
    "    car_type = extract_type(item)\n",
    "    if car_type:\n",
    "        print(car_type)"
   ]
  },
  {
   "cell_type": "code",
   "execution_count": 20,
   "metadata": {},
   "outputs": [
    {
     "name": "stdout",
     "output_type": "stream",
     "text": [
      "Suzuki Swift 1.2 GLX\n",
      "Isuzu D-Max 1.9 Spacecab S\n",
      "Ford RANGER 2.2 Hi-Rider XLS\n",
      "Ford RANGER 2.0 Hi-Rider WildTrak\n",
      "Isuzu D-Max 3.0 HI-Lander S\n",
      "Mitsubishi TRITON 2.5 GLX\n",
      "Honda JAZZ 1.5 S i-VTEC\n",
      "Mitsubishi Mirage 1.2 GLX\n",
      "Ford RANGER 2.0 Turbo Hi-Rider XLT\n",
      "Isuzu D-Max 1.9 X-Series Speed\n",
      "Toyota YARIS 1.2 Entry\n",
      "Isuzu D-Max 1.9 Hi-Lander Z\n",
      "Ford RANGER 2.2 Hi-Rider XLT\n",
      "Isuzu D-Max 1.9 Hi-Lander X-Series Z\n",
      "Toyota Hilux Revo 2.4 Z Edition E\n"
     ]
    }
   ],
   "source": [
    "# ฟังก์ชันในการดึงชื่อรุ่นรถ\n",
    "def extract_model(text):\n",
    "    # ใช้ Regular Expressions เพื่อดึงชื่อรุ่นรถที่ปรากฏหลังปี\n",
    "    match = re.search(r\"\\d{4} (.+?) (รถ|SUV|MPV|เก๋ง|กระบะ|ตู้)\", text)\n",
    "    if match:\n",
    "        return match.group(1).strip()\n",
    "    return \"\"\n",
    "\n",
    "# ดึงชื่อรุ่นรถและพิมพ์ออกมา\n",
    "for item in data:\n",
    "    model = extract_model(item)\n",
    "    if model:\n",
    "        print(model)"
   ]
  },
  {
   "cell_type": "code",
   "execution_count": 21,
   "metadata": {},
   "outputs": [],
   "source": [
    "import csv\n",
    "# ดึงชื่อจังหวัด, ปี และราคา จาก HTML\n",
    "#province_names = extract_provinces(html_location)\n",
    "#years = extract_years(html_date)\n",
    "#prices = extract_prices(html_price)\n",
    "\n",
    "# เปิดไฟล์ CSV เพื่อเขียนข้อมูล\n",
    "with open('car_data_with_prices2.csv', mode='w', newline='', encoding='utf-8') as file:\n",
    "    writer = csv.writer(file)\n",
    "    writer.writerow(['Year', 'Brand', 'Model', 'Type', 'Province', 'Price'])  # เขียนหัวข้อคอลัมน์\n",
    "\n",
    "    # ดึงข้อมูลและเขียนลงในไฟล์ CSV\n",
    "    for item, province, year, price in zip(data, province_names, years, prices):\n",
    "        brand = extract_brand(item)\n",
    "        model = extract_model(item)\n",
    "        car_type = extract_type(item)\n",
    "        writer.writerow([year, brand, model, car_type, province, price])"
   ]
  }
 ],
 "metadata": {
  "kernelspec": {
   "display_name": "Python 3",
   "language": "python",
   "name": "python3"
  },
  "language_info": {
   "codemirror_mode": {
    "name": "ipython",
    "version": 3
   },
   "file_extension": ".py",
   "mimetype": "text/x-python",
   "name": "python",
   "nbconvert_exporter": "python",
   "pygments_lexer": "ipython3",
   "version": "3.12.4"
  }
 },
 "nbformat": 4,
 "nbformat_minor": 2
}

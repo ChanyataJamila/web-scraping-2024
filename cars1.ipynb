{
 "cells": [
  {
   "cell_type": "code",
   "execution_count": 1,
   "metadata": {},
   "outputs": [],
   "source": [
    "import requests\n",
    "from bs4 import BeautifulSoup\n",
    "import re\n",
    "\n",
    "# ชื่อเว็ปที่จะสกัด หน้าที่ 1\n",
    "cars = \"https://chobrod.com/car-the-north/ygt2020\"\n",
    "\n",
    "# ส่งคำขอ\n",
    "page = requests.get(cars)\n",
    "\n",
    "# ใช้ BeautifulSoup ในการสกัดข้อมูล\n",
    "soup = BeautifulSoup(page.content, \"html.parser\")\n",
    "\n"
   ]
  },
  {
   "cell_type": "code",
   "execution_count": 2,
   "metadata": {},
   "outputs": [
    {
     "name": "stdout",
     "output_type": "stream",
     "text": [
      "[<p class=\"price\">฿529,000 </p>, <p class=\"price\">฿399,000 </p>, <p class=\"price\">฿389,000 </p>, <p class=\"price\">฿579,000 </p>, <p class=\"price\">฿445,000 </p>, <p class=\"price\">฿425,000 </p>, <p class=\"price\">฿399,000 </p>, <p class=\"price\">฿399,000 </p>, <p class=\"price\">฿225,000 </p>, <p class=\"price\">฿419,000 </p>, <p class=\"price\">฿519,000 </p>, <p class=\"price\">฿469,000 </p>, <p class=\"price\">฿465,000 </p>, <p class=\"price\">฿1,990,000 </p>, <p class=\"price\">฿785,000 </p>, <p class=\"price\">฿719,000 </p>]\n"
     ]
    }
   ],
   "source": [
    "# สกัดข้อมูลจาก class ที่มีชื่อว่า \"price\"\n",
    "content = soup.find_all(class_=\"price\")\n",
    "print(content)"
   ]
  },
  {
   "cell_type": "code",
   "execution_count": 3,
   "metadata": {},
   "outputs": [
    {
     "data": {
      "text/plain": [
       "[<p class=\"price\">฿529,000 </p>,\n",
       " <p class=\"price\">฿399,000 </p>,\n",
       " <p class=\"price\">฿389,000 </p>,\n",
       " <p class=\"price\">฿579,000 </p>,\n",
       " <p class=\"price\">฿445,000 </p>,\n",
       " <p class=\"price\">฿425,000 </p>,\n",
       " <p class=\"price\">฿399,000 </p>,\n",
       " <p class=\"price\">฿399,000 </p>,\n",
       " <p class=\"price\">฿225,000 </p>,\n",
       " <p class=\"price\">฿419,000 </p>,\n",
       " <p class=\"price\">฿519,000 </p>,\n",
       " <p class=\"price\">฿469,000 </p>,\n",
       " <p class=\"price\">฿465,000 </p>,\n",
       " <p class=\"price\">฿1,990,000 </p>,\n",
       " <p class=\"price\">฿785,000 </p>,\n",
       " <p class=\"price\">฿719,000 </p>]"
      ]
     },
     "execution_count": 3,
     "metadata": {},
     "output_type": "execute_result"
    }
   ],
   "source": [
    "content"
   ]
  },
  {
   "cell_type": "code",
   "execution_count": 4,
   "metadata": {},
   "outputs": [
    {
     "name": "stdout",
     "output_type": "stream",
     "text": [
      "529000.0\n",
      "399000.0\n",
      "389000.0\n",
      "579000.0\n",
      "445000.0\n",
      "425000.0\n",
      "399000.0\n",
      "399000.0\n",
      "225000.0\n",
      "419000.0\n",
      "519000.0\n",
      "469000.0\n",
      "465000.0\n",
      "1990000.0\n",
      "785000.0\n",
      "719000.0\n"
     ]
    }
   ],
   "source": [
    "prices = []\n",
    "\n",
    "# แปลง ResultSet เป็นข้อความก่อนใช้ regex\n",
    "content_text = \" \".join([item.get_text() for item in content])\n",
    "\n",
    "# ใช้ regex ในการค้นหาราคาที่ขึ้นต้นด้วยสัญลักษณ์ ฿\n",
    "price_matches = re.findall(r'฿\\s*([\\d,]+)', content_text)\n",
    "\n",
    "# ตรวจสอบว่ามี matches หรือไม่\n",
    "if price_matches:\n",
    "    for price_str in price_matches:\n",
    "        # ลบคอมมาออกและแปลงเป็น float หรือ int\n",
    "        price = float(price_str.replace(',', ''))\n",
    "        prices.append(price)\n",
    "else:\n",
    "    print(f\"No price found in: {content_text}\")  # Optional: สำหรับ debugging\n",
    "\n",
    "# แสดงผลลัพธ์\n",
    "for price in prices:\n",
    "    print(price)\n"
   ]
  },
  {
   "cell_type": "code",
   "execution_count": 5,
   "metadata": {},
   "outputs": [
    {
     "name": "stdout",
     "output_type": "stream",
     "text": [
      "[<div class=\"date\"><i class=\"cicon-list-calendar-2\"></i>2022</div>, <div class=\"date\"><i class=\"cicon-list-calendar-2\"></i>2021</div>, <div class=\"date\"><i class=\"cicon-list-calendar-2\"></i>2022</div>, <div class=\"date\"><i class=\"cicon-list-calendar-2\"></i>2022</div>, <div class=\"date\"><i class=\"cicon-list-calendar-2\"></i>2023</div>, <div class=\"date\"><i class=\"cicon-list-calendar-2\"></i>2021</div>, <div class=\"date\"><i class=\"cicon-list-calendar-2\"></i>2022</div>, <div class=\"date\"><i class=\"cicon-list-calendar-2\"></i>2021</div>, <div class=\"date\"><i class=\"cicon-list-calendar-2\"></i>2021</div>, <div class=\"date\"><i class=\"cicon-list-calendar-2\"></i>2020</div>, <div class=\"date\"><i class=\"cicon-list-calendar-2\"></i>2021</div>, <div class=\"date\"><i class=\"cicon-list-calendar-2\"></i>2022</div>, <div class=\"date\"><i class=\"cicon-list-calendar-2\"></i>2022</div>, <div class=\"date\"><i class=\"cicon-list-calendar-2\"></i>2023</div>, <div class=\"date\"><i class=\"cicon-list-calendar-2\"></i>2022</div>, <div class=\"date\"><i class=\"cicon-list-calendar-2\"></i>2022</div>]\n"
     ]
    }
   ],
   "source": [
    "# สกัดข้อมูลจาก class ที่มีชื่อว่า \"date\"\n",
    "content = soup.find_all(class_=\"date\")\n",
    "print(content)"
   ]
  },
  {
   "cell_type": "code",
   "execution_count": 6,
   "metadata": {},
   "outputs": [
    {
     "data": {
      "text/plain": [
       "[<div class=\"date\"><i class=\"cicon-list-calendar-2\"></i>2022</div>,\n",
       " <div class=\"date\"><i class=\"cicon-list-calendar-2\"></i>2021</div>,\n",
       " <div class=\"date\"><i class=\"cicon-list-calendar-2\"></i>2022</div>,\n",
       " <div class=\"date\"><i class=\"cicon-list-calendar-2\"></i>2022</div>,\n",
       " <div class=\"date\"><i class=\"cicon-list-calendar-2\"></i>2023</div>,\n",
       " <div class=\"date\"><i class=\"cicon-list-calendar-2\"></i>2021</div>,\n",
       " <div class=\"date\"><i class=\"cicon-list-calendar-2\"></i>2022</div>,\n",
       " <div class=\"date\"><i class=\"cicon-list-calendar-2\"></i>2021</div>,\n",
       " <div class=\"date\"><i class=\"cicon-list-calendar-2\"></i>2021</div>,\n",
       " <div class=\"date\"><i class=\"cicon-list-calendar-2\"></i>2020</div>,\n",
       " <div class=\"date\"><i class=\"cicon-list-calendar-2\"></i>2021</div>,\n",
       " <div class=\"date\"><i class=\"cicon-list-calendar-2\"></i>2022</div>,\n",
       " <div class=\"date\"><i class=\"cicon-list-calendar-2\"></i>2022</div>,\n",
       " <div class=\"date\"><i class=\"cicon-list-calendar-2\"></i>2023</div>,\n",
       " <div class=\"date\"><i class=\"cicon-list-calendar-2\"></i>2022</div>,\n",
       " <div class=\"date\"><i class=\"cicon-list-calendar-2\"></i>2022</div>]"
      ]
     },
     "execution_count": 6,
     "metadata": {},
     "output_type": "execute_result"
    }
   ],
   "source": [
    "content"
   ]
  },
  {
   "cell_type": "code",
   "execution_count": 7,
   "metadata": {},
   "outputs": [
    {
     "name": "stdout",
     "output_type": "stream",
     "text": [
      "2022\n",
      "2020\n",
      "2021\n",
      "2023\n",
      "2021\n",
      "2022\n",
      "2021\n",
      "2021\n",
      "2022\n",
      "2023\n",
      "2022\n",
      "2020\n",
      "2020\n",
      "2022\n",
      "2021\n",
      "2021\n"
     ]
    }
   ],
   "source": [
    "html_date = '''\n",
    "<div class=\"date\"><i class=\"cicon-list-calendar-2\"></i>2022</div>,\n",
    " <div class=\"date\"><i class=\"cicon-list-calendar-2\"></i>2020</div>,\n",
    " <div class=\"date\"><i class=\"cicon-list-calendar-2\"></i>2021</div>,\n",
    " <div class=\"date\"><i class=\"cicon-list-calendar-2\"></i>2023</div>,\n",
    " <div class=\"date\"><i class=\"cicon-list-calendar-2\"></i>2021</div>,\n",
    " <div class=\"date\"><i class=\"cicon-list-calendar-2\"></i>2022</div>,\n",
    " <div class=\"date\"><i class=\"cicon-list-calendar-2\"></i>2021</div>,\n",
    " <div class=\"date\"><i class=\"cicon-list-calendar-2\"></i>2021</div>,\n",
    " <div class=\"date\"><i class=\"cicon-list-calendar-2\"></i>2022</div>,\n",
    " <div class=\"date\"><i class=\"cicon-list-calendar-2\"></i>2023</div>,\n",
    " <div class=\"date\"><i class=\"cicon-list-calendar-2\"></i>2022</div>,\n",
    " <div class=\"date\"><i class=\"cicon-list-calendar-2\"></i>2020</div>,\n",
    " <div class=\"date\"><i class=\"cicon-list-calendar-2\"></i>2020</div>,\n",
    " <div class=\"date\"><i class=\"cicon-list-calendar-2\"></i>2022</div>,\n",
    " <div class=\"date\"><i class=\"cicon-list-calendar-2\"></i>2021</div>,\n",
    " <div class=\"date\"><i class=\"cicon-list-calendar-2\"></i>2021</div>)\n",
    " '''\n",
    "# สร้าง BeautifulSoup object\n",
    "soup = BeautifulSoup(html_date, 'html.parser')\n",
    "\n",
    "# ค้นหาข้อมูลทั้งหมดที่อยู่ใน div ที่มี class ชื่อว่า \"date\"\n",
    "dates = soup.find_all('div', class_='date')\n",
    "\n",
    "# ใช้ Regular Expression ในการดึงแค่ปี\n",
    "years = [re.search(r'\\d{4}', str(date)).group() for date in dates]\n",
    "\n",
    "# แสดงผลลัพธ์\n",
    "#print(years)\n",
    "\n",
    "# แสดงผลข้อมูลในแนวตั้ง\n",
    "for year in years:\n",
    "    print(year)"
   ]
  },
  {
   "cell_type": "code",
   "execution_count": 8,
   "metadata": {},
   "outputs": [
    {
     "name": "stdout",
     "output_type": "stream",
     "text": [
      "[]\n"
     ]
    }
   ],
   "source": [
    "# สกัดข้อมูลจาก class ที่มีชื่อว่า \"location\"\n",
    "content1 = soup.find_all(class_=\"location\")\n",
    "print(content1)"
   ]
  },
  {
   "cell_type": "code",
   "execution_count": 9,
   "metadata": {},
   "outputs": [
    {
     "data": {
      "text/plain": [
       "[]"
      ]
     },
     "execution_count": 9,
     "metadata": {},
     "output_type": "execute_result"
    }
   ],
   "source": [
    "content1"
   ]
  },
  {
   "cell_type": "code",
   "execution_count": 10,
   "metadata": {},
   "outputs": [
    {
     "name": "stdout",
     "output_type": "stream",
     "text": [
      "เชียงราย\n",
      "เชียงใหม่\n",
      "เชียงใหม่\n",
      "เชียงใหม่\n",
      "เชียงใหม่\n",
      "เชียงใหม่\n",
      "เชียงใหม่\n",
      "เชียงใหม่\n",
      "เชียงใหม่\n",
      "เชียงใหม่\n",
      "เชียงใหม่\n",
      "เชียงใหม่\n",
      "เชียงใหม่\n",
      "เชียงใหม่\n",
      "เชียงใหม่\n",
      "เชียงใหม่\n"
     ]
    }
   ],
   "source": [
    "html_location = '''\n",
    "<<div class=\"location\"><i class=\"icon-location\"></i>เชียงราย</div>,\n",
    " <div class=\"location\"><i class=\"icon-location\"></i>เชียงใหม่</div>,\n",
    " <div class=\"location\"><i class=\"icon-location\"></i>เชียงใหม่</div>,\n",
    " <div class=\"location\"><i class=\"icon-location\"></i>เชียงใหม่</div>,\n",
    " <div class=\"location\"><i class=\"icon-location\"></i>เชียงใหม่</div>,\n",
    " <div class=\"location\"><i class=\"icon-location\"></i>เชียงใหม่</div>,\n",
    " <div class=\"location\"><i class=\"icon-location\"></i>เชียงใหม่</div>,\n",
    " <div class=\"location\"><i class=\"icon-location\"></i>เชียงใหม่</div>,\n",
    " <div class=\"location\"><i class=\"icon-location\"></i>เชียงใหม่</div>,\n",
    " <div class=\"location\"><i class=\"icon-location\"></i>เชียงใหม่</div>,\n",
    " <div class=\"location\"><i class=\"icon-location\"></i>เชียงใหม่</div>,\n",
    " <div class=\"location\"><i class=\"icon-location\"></i>เชียงใหม่</div>,\n",
    " <div class=\"location\"><i class=\"icon-location\"></i>เชียงใหม่</div>,\n",
    " <div class=\"location\"><i class=\"icon-location\"></i>เชียงใหม่</div>,\n",
    " <div class=\"location\"><i class=\"icon-location\"></i>เชียงใหม่</div>,\n",
    " <div class=\"location\"><i class=\"icon-location\"></i>เชียงใหม่</div>)\n",
    " '''\n",
    "# สร้าง BeautifulSoup object\n",
    "soup = BeautifulSoup(html_location, 'html.parser')\n",
    "\n",
    "# ค้นหาข้อมูลทั้งหมดที่อยู่ใน div ที่มี class ชื่อว่า \"location\"\n",
    "locations = soup.find_all('div', class_='location')\n",
    "\n",
    "# ดึงชื่อจังหวัดจากข้อมูล\n",
    "province_names = [location.get_text(strip=True).replace('เชียงใหม่', 'เชียงใหม่') for location in locations]\n",
    "\n",
    "# แสดงผลลัพธ์\n",
    "for province in province_names:\n",
    "    print(province)"
   ]
  },
  {
   "cell_type": "code",
   "execution_count": 11,
   "metadata": {},
   "outputs": [
    {
     "name": "stdout",
     "output_type": "stream",
     "text": [
      "[]\n"
     ]
    }
   ],
   "source": [
    "# สกัดข้อมูลจาก class ที่มีชื่อว่า \"title\"\n",
    "content2 = soup.find_all('h2',class_=\"title\")\n",
    "print(content2)"
   ]
  },
  {
   "cell_type": "code",
   "execution_count": 12,
   "metadata": {},
   "outputs": [
    {
     "data": {
      "text/plain": [
       "[]"
      ]
     },
     "execution_count": 12,
     "metadata": {},
     "output_type": "execute_result"
    }
   ],
   "source": [
    "content2"
   ]
  },
  {
   "cell_type": "code",
   "execution_count": 13,
   "metadata": {},
   "outputs": [
    {
     "name": "stdout",
     "output_type": "stream",
     "text": [
      "2022 MITSUBISHI TRITON DOUBLE CAB 2.4 GLS PLUS เกียร์AUTO สีขาวมุก ฟรีดาวน์ ออกรถ 0 บาท\n",
      "2020 Isuzu D-Max 1.9 Spacecab S รถกระบะ ดาวน์ 0%\n",
      "2021 Ford RANGER 2.2 Hi-Rider XLS รถกระบะ ออกรถ 0 บาท\n",
      "2023 Ford RANGER 2.0 Hi-Rider WildTrak รถกระบะ \n",
      "2021 Isuzu D-Max 3.0 HI-Lander S รถกระบะ ออกรถ 0 บาท\n",
      "2022 Mitsubishi TRITON 2.5 GLX รถกระบะ ออกรถง่าย\n",
      "2021 Ford RANGER 2.2 XL รถกระบะ ออกรถง่าย\n",
      "2021 Isuzu D-Max 1.9 X-Series Speed Cab4 L DA รถกระบะ ออกรถ 0 บาท\n",
      "2022 Mitsubishi Xpander 1.5 GLS-LTD รถตู้/MPV ฟรีดาวน์\n",
      "2023 Nissan Almera 1.0 EL รถเก๋ง 4 ประตู ดาวน์ 0%\n",
      "2022 Mazda 2 1.3 C รถเก๋ง 4 ประตู ออกรถฟรี\n",
      "2020 Honda JAZZ 1.5 S i-VTEC รถเก๋ง 5 ประตู ออกรถง่าย\n",
      "2020 Mitsubishi Mirage 1.2 GLX รถเก๋ง 5 ประตู \n",
      "2022 Mg ZS 1.5 D SUV ฟรีดาวน์\n",
      "2021 Mg 5 1.5 D รถเก๋ง 4 ประตู รถสวย\n",
      "2021 Mg MG3 1.5 D รถเก๋ง 4 ประตู ฟรีดาวน์\n"
     ]
    }
   ],
   "source": [
    "html_cars = '''\n",
    "<<<h2 class=\"title\"><a href=\"/car-mitsubishi-triton-2-4-double-cab-plus-gls-chiangrai/2022-double-cab-2-4-gls-plus-เกียร์-auto-สีขาวมุก-ฟรีดาวน์-ออกรถ-0-บาท-aid24518032\" title=\"2022 MITSUBISHI TRITON DOUBLE CAB 2.4 GLS PLUS เกียร์AUTO สีขาวมุก ฟรีดาวน์ ออกรถ 0 บาท\">2022 MITSUBISHI TRITON DOUBLE CAB 2.4 GLS PLUS เกียร์AUTO สีขาวมุก ฟรีดาวน์ ออกรถ 0 บาท</a></h2>,\n",
    " <h2 class=\"title\"><a href=\"/car-isuzu-d-max-1-9-spacecab-s-chiangmai/2020-รถกระบะ-ดาวน์-0-aid24840072\" title=\"2020 Isuzu D-Max 1.9 Spacecab S รถกระบะ ดาวน์ 0%\">2020 Isuzu D-Max 1.9 Spacecab S รถกระบะ ดาวน์ 0%</a></h2>,\n",
    " <h2 class=\"title\"><a href=\"/car-ford-ranger-2-2-hi-rider-xls-chiangmai/2021-รถกระบะ-ออกรถ-0-บาท-aid24839652\" title=\"2021 Ford RANGER 2.2 Hi-Rider XLS รถกระบะ ออกรถ 0 บาท\">2021 Ford RANGER 2.2 Hi-Rider XLS รถกระบะ ออกรถ 0 บาท</a></h2>,\n",
    " <h2 class=\"title\"><a href=\"/car-ford-ranger-2-0-hi-rider-wildtrak-chiangmai/2023-รถกระบะ-aid24833162\" title=\"2023 Ford RANGER 2.0 Hi-Rider WildTrak รถกระบะ \">2023 Ford RANGER 2.0 Hi-Rider WildTrak รถกระบะ </a></h2>,\n",
    " <h2 class=\"title\"><a href=\"/car-isuzu-d-max-3-0-hi-lander-s-chiangmai/2021-รถกระบะ-ออกรถ-0-บาท-aid24825542\" title=\"2021 Isuzu D-Max 3.0 HI-Lander S รถกระบะ ออกรถ 0 บาท\">2021 Isuzu D-Max 3.0 HI-Lander S รถกระบะ ออกรถ 0 บาท</a></h2>,\n",
    " <h2 class=\"title\"><a href=\"/car-mitsubishi-triton-2-5-glx-chiangmai/2022-รถกระบะ-ออกรถง่าย-aid24684442\" title=\"2022 Mitsubishi TRITON 2.5 GLX รถกระบะ ออกรถง่าย\">2022 Mitsubishi TRITON 2.5 GLX รถกระบะ ออกรถง่าย</a></h2>,\n",
    " <h2 class=\"title\"><a href=\"/car-ford-ranger-2-2-xl-chiangmai/2021-รถกระบะ-ออกรถง่าย-aid24789792\" title=\"2021 Ford RANGER 2.2 XL รถกระบะ ออกรถง่าย\">2021 Ford RANGER 2.2 XL รถกระบะ ออกรถง่าย</a></h2>,\n",
    " <h2 class=\"title\"><a href=\"/car-isuzu-d-max-1-9-x-series-speed-cab4-l-da-chiangmai/2021-รถกระบะ-ออกรถ-0-บาท-aid24612592\" title=\"2021 Isuzu D-Max 1.9 X-Series Speed Cab4 L DA รถกระบะ ออกรถ 0 บาท\">2021 Isuzu D-Max 1.9 X-Series Speed Cab4 L DA รถกระบะ ออกรถ 0 บาท</a></h2>,\n",
    " <h2 class=\"title\"><a href=\"/car-mitsubishi-xpander-1-5-gls-ltd-chiangmai/2022-รถตู้-mpv-ฟรีดาวน์-aid24920892\" title=\"2022 Mitsubishi Xpander 1.5 GLS-LTD รถตู้/MPV ฟรีดาวน์\">2022 Mitsubishi Xpander 1.5 GLS-LTD รถตู้/MPV ฟรีดาวน์</a></h2>,\n",
    " <h2 class=\"title\"><a href=\"/car-nissan-almera-1-0-el-chiangmai/2023-รถเก๋ง-4-ประตู-ดาวน์-0-aid24921022\" title=\"2023 Nissan Almera 1.0 EL รถเก๋ง 4 ประตู ดาวน์ 0%\">2023 Nissan Almera 1.0 EL รถเก๋ง 4 ประตู ดาวน์ 0%</a></h2>,\n",
    " <h2 class=\"title\"><a href=\"/car-mazda-2-1-3-c-chiangmai/0-รถเก๋ง-4-ประตู-ออกรถฟรี-aid24920292\" title=\"2022 Mazda 2 1.3 C รถเก๋ง 4 ประตู ออกรถฟรี\">2022 Mazda 2 1.3 C รถเก๋ง 4 ประตู ออกรถฟรี</a></h2>,\n",
    " <h2 class=\"title\"><a href=\"/car-honda-jazz-1-5-s-i-vtec-chiangmai/2020-รถเก๋ง-5-ประตู-ออกรถง่าย-aid24920482\" title=\"2020 Honda JAZZ 1.5 S i-VTEC รถเก๋ง 5 ประตู ออกรถง่าย\">2020 Honda JAZZ 1.5 S i-VTEC รถเก๋ง 5 ประตู ออกรถง่าย</a></h2>,\n",
    " <h2 class=\"title\"><a href=\"/car-mitsubishi-mirage-1-2-glx-chiangmai/2020-รถเก๋ง-5-ประตู-aid24920512\" title=\"2020 Mitsubishi Mirage 1.2 GLX รถเก๋ง 5 ประตู \">2020 Mitsubishi Mirage 1.2 GLX รถเก๋ง 5 ประตู </a></h2>,\n",
    " <h2 class=\"title\"><a href=\"/car-mg-zs-1-5-d-chiangmai/2022-suv-ฟรีดาวน์-aid24920552\" title=\"2022 Mg ZS 1.5 D SUV ฟรีดาวน์\">2022 Mg ZS 1.5 D SUV ฟรีดาวน์</a></h2>,\n",
    " <h2 class=\"title\"><a href=\"/car-mg-5-1-5-d-chiangmai/2021-1-d-รถเก๋ง-4-ประตู-รถสวย-aid24920572\" title=\"2021 Mg 5 1.5 D รถเก๋ง 4 ประตู รถสวย\">2021 Mg 5 1.5 D รถเก๋ง 4 ประตู รถสวย</a></h2>,\n",
    " <h2 class=\"title\"><a href=\"/car-mg-mg3-1-5-d-chiangmai/2021-3-รถเก๋ง-4-ประตู-ฟรีดาวน์-aid24920592\" title=\"2021 Mg MG3 1.5 D รถเก๋ง 4 ประตู ฟรีดาวน์\">2021 Mg MG3 1.5 D รถเก๋ง 4 ประตู ฟรีดาวน์</a></h2>)\n",
    " '''\n",
    "\n",
    "# สร้าง BeautifulSoup object\n",
    "soup = BeautifulSoup(html_cars, 'html.parser')\n",
    "\n",
    "# ดึงค่าจาก attribute title ของแต่ละ <a> tag\n",
    "car_titles = [a['title'] for a in soup.find_all('a', title=True)]\n",
    "\n",
    "# แสดงผลข้อมูลในแนวตั้ง\n",
    "for title in car_titles:\n",
    "    print(title)"
   ]
  },
  {
   "cell_type": "code",
   "execution_count": 14,
   "metadata": {},
   "outputs": [
    {
     "name": "stdout",
     "output_type": "stream",
     "text": [
      "MITSUBISHI\n",
      "Isuzu\n",
      "Ford\n",
      "Ford\n",
      "Isuzu\n",
      "Mitsubishi\n",
      "Ford\n",
      "Isuzu\n",
      "Mitsubishi\n",
      "Nissan\n",
      "Mazda\n",
      "Honda\n",
      "Mitsubishi\n",
      "Mg\n",
      "Mg\n",
      "Mg\n"
     ]
    }
   ],
   "source": [
    "data = [\n",
    "    \"2022 MITSUBISHI TRITON DOUBLE CAB 2.4 GLS PLUS เกียร์AUTO สีขาวมุก ฟรีดาวน์ ออกรถ 0 บาท\",\n",
    "    \"2020 Isuzu D-Max 1.9 Spacecab S รถกระบะ ดาวน์ 0%\",\n",
    "    \"2021 Ford RANGER 2.2 Hi-Rider XLS รถกระบะ ออกรถ 0 บาท\",\n",
    "    \"2023 Ford RANGER 2.0 Hi-Rider WildTrak รถกระบะ\",\n",
    "    \"2021 Isuzu D-Max 3.0 HI-Lander S รถกระบะ ออกรถ 0 บาท\",\n",
    "    \"2022 Mitsubishi TRITON 2.5 GLX รถกระบะ ออกรถง่าย\",\n",
    "    \"2021 Ford RANGER 2.2 XL รถกระบะ ออกรถง่าย\",\n",
    "    \"2021 Isuzu D-Max 1.9 X-Series Speed Cab4 L DA รถกระบะ ออกรถ 0 บาท\",\n",
    "    \"2022 Mitsubishi Xpander 1.5 GLS-LTD รถตู้/MPV ฟรีดาวน์\",\n",
    "    \"2023 Nissan Almera 1.0 EL รถเก๋ง 4 ประตู ดาวน์ 0%\",\n",
    "    \"2022 Mazda 2 1.3 C รถเก๋ง 4 ประตู ออกรถฟรี\",\n",
    "    \"2020 Honda JAZZ 1.5 S i-VTEC รถเก๋ง 5 ประตู ออกรถง่าย\",\n",
    "    \"2020 Mitsubishi Mirage 1.2 GLX รถเก๋ง 5 ประตู\",\n",
    "    \"2022 Mg ZS 1.5 D SUV ฟรีดาวน์\",\n",
    "    \"2021 Mg 5 1.5 D รถเก๋ง 4 ประตู รถสวย\",\n",
    "    \"2021 Mg MG3 1.5 D รถเก๋ง 4 ประตู ฟรีดาวน์\"\n",
    "]\n",
    "\n",
    "# ฟังก์ชันในการดึงชื่อยี่ห้อรถ\n",
    "def extract_brand(text):\n",
    "    match = re.match(r\"\\d{4} (\\w+)\", text)\n",
    "    if match:\n",
    "        return match.group(1)\n",
    "    return \"\"\n",
    "\n",
    "# ดึงชื่อยี่ห้อรถและพิมพ์ออกมา\n",
    "for item in data:\n",
    "    brand = extract_brand(item)\n",
    "    if brand:\n",
    "        print(brand)\n"
   ]
  },
  {
   "cell_type": "code",
   "execution_count": 15,
   "metadata": {},
   "outputs": [
    {
     "name": "stdout",
     "output_type": "stream",
     "text": [
      "ประเภทอื่น\n",
      "Pickup\n",
      "Pickup\n",
      "Pickup\n",
      "Pickup\n",
      "Pickup\n",
      "Pickup\n",
      "Pickup\n",
      "Van\n",
      "Sedan\n",
      "Sedan\n",
      "Sedan\n",
      "Sedan\n",
      "SUV\n",
      "Sedan\n",
      "Sedan\n"
     ]
    }
   ],
   "source": [
    "data = [\n",
    "    \"2022 MITSUBISHI TRITON DOUBLE CAB 2.4 GLS PLUS เกียร์AUTO สีขาวมุก ฟรีดาวน์ ออกรถ 0 บาท\",\n",
    "    \"2020 Isuzu D-Max 1.9 Spacecab S รถกระบะ ดาวน์ 0%\",\n",
    "    \"2021 Ford RANGER 2.2 Hi-Rider XLS รถกระบะ ออกรถ 0 บาท\",\n",
    "    \"2023 Ford RANGER 2.0 Hi-Rider WildTrak รถกระบะ\",\n",
    "    \"2021 Isuzu D-Max 3.0 HI-Lander S รถกระบะ ออกรถ 0 บาท\",\n",
    "    \"2022 Mitsubishi TRITON 2.5 GLX รถกระบะ ออกรถง่าย\",\n",
    "    \"2021 Ford RANGER 2.2 XL รถกระบะ ออกรถง่าย\",\n",
    "    \"2021 Isuzu D-Max 1.9 X-Series Speed Cab4 L DA รถกระบะ ออกรถ 0 บาท\",\n",
    "    \"2022 Mitsubishi Xpander 1.5 GLS-LTD รถตู้/MPV ฟรีดาวน์\",\n",
    "    \"2023 Nissan Almera 1.0 EL รถเก๋ง 4 ประตู ดาวน์ 0%\",\n",
    "    \"2022 Mazda 2 1.3 C รถเก๋ง 4 ประตู ออกรถฟรี\",\n",
    "    \"2020 Honda JAZZ 1.5 S i-VTEC รถเก๋ง 5 ประตู ออกรถง่าย\",\n",
    "    \"2020 Mitsubishi Mirage 1.2 GLX รถเก๋ง 5 ประตู\",\n",
    "    \"2022 Mg ZS 1.5 D SUV ฟรีดาวน์\",\n",
    "    \"2021 Mg 5 1.5 D รถเก๋ง 4 ประตู รถสวย\",\n",
    "    \"2021 Mg MG3 1.5 D รถเก๋ง 4 ประตู ฟรีดาวน์\"\n",
    "]\n",
    "\n",
    "# ฟังก์ชันในการดึงชื่อยี่ห้อรถ\n",
    "def extract_brand(text):\n",
    "    match = re.match(r\"\\d{4} (\\w+)\", text)\n",
    "    if match:\n",
    "        return match.group(1)\n",
    "    return \"\"\n",
    "\n",
    "# ฟังก์ชันในการดึงประเภทของรถ\n",
    "def extract_type(text):\n",
    "    if \"รถกระบะ\" in text:\n",
    "        return \"Pickup\"\n",
    "    elif \"รถเก๋ง\" in text:\n",
    "        return \"Sedan\"\n",
    "    elif \"รถตู้\" in text or \"MPV\" in text:\n",
    "        return \"Van\"\n",
    "    elif \"SUV\" in text:\n",
    "        return \"SUV\"\n",
    "    return \"ประเภทอื่น\"\n",
    "\n",
    "# ดึงประเภทของรถและพิมพ์ออกมา\n",
    "for item in data:\n",
    "    car_type = extract_type(item)\n",
    "    if car_type:\n",
    "        print(car_type)"
   ]
  },
  {
   "cell_type": "code",
   "execution_count": 16,
   "metadata": {},
   "outputs": [
    {
     "name": "stdout",
     "output_type": "stream",
     "text": [
      "Isuzu D-Max 1.9 Spacecab S\n",
      "Ford RANGER 2.2 Hi-Rider XLS\n",
      "Ford RANGER 2.0 Hi-Rider WildTrak\n",
      "Isuzu D-Max 3.0 HI-Lander S\n",
      "Mitsubishi TRITON 2.5 GLX\n",
      "Ford RANGER 2.2 XL\n",
      "Isuzu D-Max 1.9 X-Series Speed Cab4 L DA\n",
      "Mitsubishi Xpander 1.5 GLS-LTD\n",
      "Nissan Almera 1.0 EL\n",
      "Mazda 2 1.3 C\n",
      "Honda JAZZ 1.5 S i-VTEC\n",
      "Mitsubishi Mirage 1.2 GLX\n",
      "Mg ZS 1.5 D\n",
      "Mg 5 1.5 D\n",
      "Mg MG3 1.5 D\n"
     ]
    }
   ],
   "source": [
    "# ฟังก์ชันในการดึงชื่อรุ่นรถ\n",
    "def extract_model(text):\n",
    "    # ใช้ Regular Expressions เพื่อดึงชื่อรุ่นรถที่ปรากฏหลังปี\n",
    "    match = re.search(r\"\\d{4} (.+?) (รถ|SUV|MPV|เก๋ง|กระบะ|ตู้)\", text)\n",
    "    if match:\n",
    "        return match.group(1).strip()\n",
    "    return \"\"\n",
    "\n",
    "# ดึงชื่อรุ่นรถและพิมพ์ออกมา\n",
    "for item in data:\n",
    "    model = extract_model(item)\n",
    "    if model:\n",
    "        print(model)"
   ]
  },
  {
   "cell_type": "code",
   "execution_count": 17,
   "metadata": {},
   "outputs": [],
   "source": [
    "import csv\n",
    "# ดึงชื่อจังหวัด, ปี และราคา จาก HTML\n",
    "#province_names = extract_provinces(html_location)\n",
    "#years = extract_years(html_date)\n",
    "#prices = extract_prices(html_price)\n",
    "\n",
    "# เปิดไฟล์ CSV เพื่อเขียนข้อมูล\n",
    "with open('car_data_with_prices2.csv', mode='w', newline='', encoding='utf-8') as file:\n",
    "    writer = csv.writer(file)\n",
    "    writer.writerow(['Year', 'Brand', 'Model', 'Type', 'Province', 'Price'])  # เขียนหัวข้อคอลัมน์\n",
    "\n",
    "    # ดึงข้อมูลและเขียนลงในไฟล์ CSV\n",
    "    for item, province, year, price in zip(data, province_names, years, prices):\n",
    "        brand = extract_brand(item)\n",
    "        model = extract_model(item)\n",
    "        car_type = extract_type(item)\n",
    "        writer.writerow([year, brand, model, car_type, province, price])"
   ]
  }
 ],
 "metadata": {
  "kernelspec": {
   "display_name": "Python 3",
   "language": "python",
   "name": "python3"
  },
  "language_info": {
   "codemirror_mode": {
    "name": "ipython",
    "version": 3
   },
   "file_extension": ".py",
   "mimetype": "text/x-python",
   "name": "python",
   "nbconvert_exporter": "python",
   "pygments_lexer": "ipython3",
   "version": "3.12.4"
  }
 },
 "nbformat": 4,
 "nbformat_minor": 2
}
